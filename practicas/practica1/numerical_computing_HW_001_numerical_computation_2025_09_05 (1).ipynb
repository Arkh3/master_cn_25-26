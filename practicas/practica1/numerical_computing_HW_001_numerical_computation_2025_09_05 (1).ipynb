{
 "cells": [
  {
   "cell_type": "markdown",
   "id": "caa3914d",
   "metadata": {},
   "source": [
    "# Numerical Computing: Homework 1"
   ]
  },
  {
   "cell_type": "markdown",
   "id": "6e0cf0ad",
   "metadata": {},
   "source": [
    "###### Authors:\n",
    "\n",
    "* alberto.suarez@uam.es\n",
    "* Student 1:\n",
    "* Student 2:"
   ]
  },
  {
   "cell_type": "code",
   "execution_count": null,
   "id": "ce0e8157",
   "metadata": {},
   "outputs": [],
   "source": [
    "import math\n",
    "import scipy as sp\n",
    "import numpy as np\n",
    "import sys\n",
    "import matplotlib.pyplot as plt\n",
    "import pandas as pd\n",
    "\n",
    "%load_ext autoreload\n",
    "%autoreload 2"
   ]
  },
  {
   "cell_type": "markdown",
   "id": "bdc7c312",
   "metadata": {},
   "source": [
    "### Exercise 1.\n",
    "\n",
    "The precision and magnitude of the numbers that can be represented and manipulated in a computer depend on the environment in which the operations are performed. For real numbers, **double precision** is commonly used.\n",
    "\n",
    "1. The goal of this exercise is to determine, using a systematic search procedure, the largest and the smallest positive (different from zero) values that can be represented in the following environments:\n",
    "    1. Excel (without using *Visual Basic*).\n",
    "    2. Python.\n",
    "    \n",
    "2. Provide an explanation of the results obtained.\n",
    "\n",
    "<u>HINTS</u>: \n",
    "1. Use a *while* loop\n",
    "2. Try to understand the information provided by `print(sys.float_info)`."
   ]
  },
  {
   "cell_type": "code",
   "execution_count": null,
   "id": "031f5839",
   "metadata": {},
   "outputs": [],
   "source": [
    "# Compute the largest double precision value. \n",
    "\n",
    "# YOUR CODE GOES HERE\n",
    "    \n",
    "# the answer is returned in the variable max_real.\n",
    "print(max_real) "
   ]
  },
  {
   "cell_type": "code",
   "execution_count": null,
   "id": "c5781e39",
   "metadata": {},
   "outputs": [],
   "source": [
    "# Compute the smallest positive double precision value. \n",
    "\n",
    "# YOUR CODE GOES HERE\n",
    "\n",
    "# the answer is stored in the variable min_real.\n",
    "print(min_real)"
   ]
  },
  {
   "cell_type": "code",
   "execution_count": null,
   "id": "ec4753a0",
   "metadata": {},
   "outputs": [],
   "source": [
    "# YOUR CODE GOES HERE"
   ]
  },
  {
   "cell_type": "markdown",
   "id": "0a2f1ac1",
   "metadata": {},
   "source": [
    "####### YOUR EXPLANATION GOES HERE (markdown)"
   ]
  },
  {
   "cell_type": "markdown",
   "id": "0792315c",
   "metadata": {},
   "source": [
    "### Exercise 2.\n",
    "\n",
    "Due to rounding errors, in double precision there is a quantity **sys.float_info.epsilon** such that \n",
    "\n",
    "```\n",
    "(1.0 + sys.float_info.epsilon) == 1.0\n",
    "# False (the values compared are different)\n",
    " \n",
    "(1.0 + sys.float_info.epsilon/2.0) == 1.0\n",
    "# True (the values compared are equal)\n",
    "```\n",
    "1. Determine the largest values of *small-values* such that\n",
    "\n",
    "```\n",
    "(1.0 + small_values[0]) == 1.0\n",
    "# True (the values compared are equal)\n",
    "\n",
    "(1048576.0 + small_values[1]) == 1048576.0\n",
    "# True (the values compared are equal)\n",
    "\n",
    "(0.0009765625 + small_values[2]) == 0.0009765625\n",
    "# True (the values compared are equal)\n",
    "```\n",
    "\n",
    "2. Is there any relation among these values?\n",
    "3. Provide an explanation of the results obtained."
   ]
  },
  {
   "cell_type": "code",
   "execution_count": null,
   "id": "d4a7eaed",
   "metadata": {},
   "outputs": [],
   "source": [
    "# YOUR CODE GOES HERE"
   ]
  },
  {
   "cell_type": "markdown",
   "id": "8cc2a2af",
   "metadata": {},
   "source": [
    "####### YOUR EXPLANATION GOES HERE (markdown)"
   ]
  },
  {
   "cell_type": "markdown",
   "id": "09c445f5",
   "metadata": {},
   "source": [
    "### Exercise 3.\n",
    "Write a function to compute the factorial of a number\n",
    "$$\n",
    "n! = \\prod_{i=1}^n i.\n",
    "$$"
   ]
  },
  {
   "cell_type": "code",
   "execution_count": null,
   "id": "bf99359f",
   "metadata": {},
   "outputs": [],
   "source": [
    "def factorial(n: int) -> float:\n",
    "    \"\"\" Compute the factorial of a number\n",
    "    Args:\n",
    "        n: Number whose factorial is computed\n",
    "\n",
    "    Returns:\n",
    "        n! in double precision (to avoid numerical problems).\n",
    "\n",
    "    Examples:\n",
    "        >>> fact(0)\n",
    "        1\n",
    "        >>> fact(5)\n",
    "        120\n",
    "        >>> fact(100)\n",
    "        9.33262154439441e+157\n",
    "    \"\"\"\n",
    "    # YOUR CODE GOES HERE"
   ]
  },
  {
   "cell_type": "code",
   "execution_count": null,
   "id": "90154ec8",
   "metadata": {},
   "outputs": [],
   "source": [
    "print(factorial(0), factorial(5), factorial(100))"
   ]
  },
  {
   "cell_type": "markdown",
   "id": "cf2226a5",
   "metadata": {},
   "source": [
    "####### YOUR EXPLANATION GOES HERE (markdown)"
   ]
  },
  {
   "cell_type": "markdown",
   "id": "49983618",
   "metadata": {},
   "source": [
    "### Exercise 4.\n",
    "\n",
    "A combinatorial number is the number of distinct manners in which one can select $k$ out of $n$ objects \n",
    "$$\n",
    " \\binom{n}{k} = \\frac{n!}{k!(n-k)!}.\n",
    "$$\n",
    "\n",
    "1. Design a function to compute combilnatorial numbers based on the factorial function defined in the previous exercise\n",
    "2. Test the design by computing the combinatorial numbers $\\binom{0}{0}, \\binom{5}{2}, \\binom{400}{0}, \\binom{400}{400}, \\binom{400}{200}$.\n",
    "3. If the initial design fails in some of the example, explain the reason for this failure.\n",
    "4. Modify the design so that the function yields the correct answer.\n"
   ]
  },
  {
   "cell_type": "code",
   "execution_count": null,
   "id": "ce4fd5c0",
   "metadata": {},
   "outputs": [],
   "source": [
    "def combinatorial_number(n: int, k:int) -> float:\n",
    "    \"\"\" Compute the factorial of a number\n",
    "    Args:\n",
    "        n: Number of objects for selection\n",
    "        k: Number of selected objects\n",
    "\n",
    "    Returns:\n",
    "        The number of ways in which k objects can be selected from a set of n objects\n",
    "        \n",
    "\n",
    "    Examples:\n",
    "        >>> combinatorial_number(0, 0)\n",
    "        1.0\n",
    "        >>> combinatorial_number(5, 0)\n",
    "        1.0\n",
    "        >>> combinatorial_number(5, 5)\n",
    "        1.0\n",
    "        >>> combinatorial_number(5, 2)\n",
    "        10.0\n",
    "        >>> combinatorial_number(400, 0)\n",
    "        1.0\n",
    "        >>> combinatorial_number(400, 400)\n",
    "        1.0\n",
    "        >>> combinatorial_number(400, 200)\n",
    "        1.0295250013541435e+119\n",
    "    \"\"\"\n",
    "    # YOUR CODE GOES HERE"
   ]
  },
  {
   "cell_type": "code",
   "execution_count": null,
   "id": "4395a41b",
   "metadata": {},
   "outputs": [],
   "source": [
    "print(combinatorial_number(0, 0))\n",
    "print(combinatorial_number(5, 0))\n",
    "print(combinatorial_number(5, 5))\n",
    "print(combinatorial_number(5, 2))\n",
    "print(combinatorial_number(400, 0))\n",
    "print(combinatorial_number(400, 400))\n",
    "print(combinatorial_number(400, 200))"
   ]
  },
  {
   "cell_type": "markdown",
   "id": "aa590405",
   "metadata": {},
   "source": [
    "####### YOUR EXPLANATION GOES HERE (markdown)"
   ]
  },
  {
   "cell_type": "markdown",
   "id": "03def493",
   "metadata": {},
   "source": [
    "### Exercise 5.\n",
    "\n",
    "Consider the following series \n",
    "$$  S = \\sum_{n=1}^{\\infty} \\frac{1}{n^4} = \\frac{\\pi^4}{90}$$\n",
    "\n",
    "We will attempt to estimate its value in an approximate manner with the help of a computer.\n",
    "\n",
    "To this end, we compute the value of the truncatd series \n",
    "$$\n",
    "S\\approx S_N  = \\sum_{n=1}^N \\frac{1}{n^4},\n",
    "$$\n",
    "which provides an accurate approximation of $S$ for sufficiently large $N$\n",
    "$$\n",
    "\\lim_{N \\rightarrow \\infty} S_N  = S.\n",
    "$$\n",
    "\n",
    "The approximation errors are defined as\n",
    "$$\n",
    "error_{abs}(N) = \\left| S_N - S \\right|; \\\\ \n",
    "error_{rel}(N) = \\frac{\\left| S_N - S \\right|}{\\left| S \\right|} = \\left| \\frac{S_N}{S} - 1 \\right|.\n",
    "$$\n",
    "\n",
    "The question is what is the minimum error that can be achieved and how large does $N$ have to be to achieve is minimum. \n",
    "\n",
    "To investigate this issue, we will consider two possible implementations of the computation \n",
    "\n",
    "<u> IMPLEMENTATION 1</u>: Forward sum\n",
    "\n",
    "$$\n",
    "S_N^{\\rightarrow} = \\left(\\left(\\left(1 + \\frac{1}{2^4} \\right)\n",
    "+ \\frac{1}{3^4} \\right) + \\ldots + \\frac{1}{(N-1)^4} \\right) + \\frac{1}{N^4}.\n",
    "$$\t\n",
    "\n",
    "<u> IMPLEMENTATION 2</u>: backward sum\n",
    "$$\n",
    "S_N^{\\leftarrow} = \\left(\\left(\\left(\n",
    "\\frac{1}{N^4} +  \\frac{1}{(N-1)^4} \\right) + \\frac{1}{(N-2)^4} \\right)+⋯+ \\frac{1}{2^4} \\right) + 1.\n",
    "$$\t\n",
    "\n",
    "1. Implement functions to compute these quantities.\n",
    "2. Analyze the behavior of these quantities as a function of $N$.\n",
    "    1. Does the error decrease as $N$ becomes larger? \n",
    "    2. What is the smallest value of the error, and for which value of $N$ is it attained?\n",
    "    3. Are the smallest errors for $S_N^{\\rightarrow} =$ and $S_N^{\\leftarrow}$ equal? If not, which of the procedures is more accurate?\n",
    "    4. Make a table (for instance, using [pandas](https://pandas.pydata.org/docs/user_guide/10min.html)) and a plot (using [matplotlib](https://matplotlib.org/stable/tutorials/index.html)) of the relative value of the approximation error of $S_N^{\\rightarrow} =$ and $S_N^{\\leftarrow}$ as a function of $N$.\n",
    "3. Provide an explanation of the results obtained.\n",
    "\n",
    "<u> HINT</u>: The explanation of the results hinges on the observations made in exercise 2."
   ]
  },
  {
   "cell_type": "code",
   "execution_count": null,
   "id": "854d4780",
   "metadata": {},
   "outputs": [],
   "source": [
    "# Exact sum \n",
    "S_exact = np.pi**4 / 90.0\n",
    "print(S_exact)"
   ]
  },
  {
   "cell_type": "code",
   "execution_count": null,
   "id": "c6b5de41",
   "metadata": {},
   "outputs": [],
   "source": [
    "# Series term\n",
    "def inverse_power(n, p):\n",
    "    return 1.0 / np.double(n)**p \n",
    "\n",
    "# Example (vectorized)\n",
    "N = 5\n",
    "n = np.arange(1, N+1)\n",
    "print(inverse_power(n, p=4))"
   ]
  },
  {
   "cell_type": "code",
   "execution_count": null,
   "id": "c1581253",
   "metadata": {},
   "outputs": [],
   "source": [
    "# Forward sum\n",
    "\n",
    "def forward_sum(series_term, N):\n",
    "    # YOUR CODE GOES HERE\n",
    "    \n",
    "\n",
    "# Example of use\n",
    "\n",
    "print(S_exact)\n",
    "\n",
    "N = 1000\n",
    "series_term = lambda n: inverse_power(n, p=4) \n",
    "\n",
    "S_N_forward = forward_sum(series_term, N)\n",
    "print(S_N_forward)"
   ]
  },
  {
   "cell_type": "code",
   "execution_count": null,
   "id": "9f43f965",
   "metadata": {},
   "outputs": [],
   "source": [
    "# Backward sum\n",
    "\n",
    "def backward_sum(series_term, N):\n",
    "    # YOUR CODE GOES HERE\n",
    "\n",
    "# Example of use\n",
    "\n",
    "print(S_exact)\n",
    "\n",
    "N = 1000\n",
    "series_term = lambda n: inverse_power(n, p=4) \n",
    "\n",
    "S_N_backward = backward_sum(series_term, N)\n",
    "print(S_N_backward)"
   ]
  },
  {
   "cell_type": "code",
   "execution_count": null,
   "id": "46cc7e67",
   "metadata": {},
   "outputs": [],
   "source": [
    "# YOUR CODE GOES HERE"
   ]
  },
  {
   "cell_type": "markdown",
   "id": "0f98b646",
   "metadata": {},
   "source": [
    "####### YOUR EXPLANATION GOES HERE (markdown)"
   ]
  },
  {
   "cell_type": "markdown",
   "id": "786dc9ec",
   "metadata": {},
   "source": [
    "### Exercise 6.\n",
    "\n",
    "Consider the following code:"
   ]
  },
  {
   "cell_type": "code",
   "execution_count": null,
   "id": "03b351be",
   "metadata": {},
   "outputs": [],
   "source": [
    "from scipy.integrate import quad\n",
    "from scipy.stats import norm\n",
    "\n",
    "\n",
    "mu = 1.35\n",
    "sigma = 0.25\n",
    "f  = lambda x: norm.pdf(x,mu,sigma); \n",
    "\n",
    "def mystery_function(alpha):\n",
    "    x_inf = mu-alpha*sigma;\n",
    "    x_sup = mu+alpha*sigma;\n",
    "    return quad(f, x_inf, x_sup, epsabs=1.0e-10, epsrel=1.0e-10)\n",
    "\n",
    "alpha = 2.0\n",
    "print(mystery_function(alpha))"
   ]
  },
  {
   "cell_type": "markdown",
   "id": "4a74c961",
   "metadata": {},
   "source": [
    "1. Explain what is being computed with this piece of code.\n",
    "2. Does the value that is beign computed change with the values of $\\mu$ and $\\sigma$? \n",
    "3. Provide a mathematical derivation (use [latex within a markdown cell](https://towardsdatascience.com/write-markdown-latex-in-the-jupyter-notebook-10985edb91fd)) to explain what is observed.\n",
    "4. Use the above derivation to compute the value of the integral for $\\alpha = \\infty$.\n",
    "5. What is the smallest value of $\\alpha$ that is needed to achieve a result numerically equivalent to the one obtained with $\\alpha = \\infty$ ?\n",
    "\n",
    "<u>HINTS</u>: \n",
    "* Look for information on `quad`,`norm`. \n",
    "* You may need to modify the values of `epsabs` and / or `epsrel` to answer the last question."
   ]
  },
  {
   "cell_type": "code",
   "execution_count": null,
   "id": "3b75ddf1",
   "metadata": {},
   "outputs": [],
   "source": [
    "# YOUR CODE GOES HERE"
   ]
  },
  {
   "cell_type": "markdown",
   "id": "a5cd2095",
   "metadata": {},
   "source": [
    "####### YOUR EXPLANATION GOES HERE (markdown)"
   ]
  },
  {
   "cell_type": "markdown",
   "id": "0422a8c3",
   "metadata": {},
   "source": [
    "### Exercise 7.\n",
    "Execute the following code several times."
   ]
  },
  {
   "cell_type": "code",
   "execution_count": null,
   "id": "5ce4d4f6",
   "metadata": {
    "scrolled": true
   },
   "outputs": [],
   "source": [
    "N = 4;\n",
    "i = range(1, N+1)\n",
    "i, j = np.meshgrid(i, i);\n",
    "A = np.abs(i-j)\n",
    "print(A)\n",
    "v0 = np.random.randn(N)\n",
    "MAX_ITER  = 50;\n",
    "for i in range(MAX_ITER):\n",
    "    v1 = A @ v0;\n",
    "    squared_norm = np.dot(v1, v1)\n",
    "    lamb =  squared_norm / np.dot(v0, v1)\n",
    "    print(lamb)\n",
    "    v0 = v1 / np.sqrt(squared_norm)"
   ]
  },
  {
   "cell_type": "markdown",
   "id": "3b8c50b8",
   "metadata": {},
   "source": [
    "Provide an explanation of what the code does and of the results observed.\n",
    "\n",
    "<u> HINT </u>:\n",
    "Investigate the functionality of the numpy function `numpy.linalg.eig`."
   ]
  },
  {
   "cell_type": "code",
   "execution_count": null,
   "id": "24d470c7",
   "metadata": {},
   "outputs": [],
   "source": [
    "# YOUR CODE GOES HERE"
   ]
  },
  {
   "cell_type": "markdown",
   "id": "02479170",
   "metadata": {},
   "source": [
    "####### YOUR EXPLANATION GOES HERE (markdown)"
   ]
  },
  {
   "cell_type": "markdown",
   "id": "13e3a458",
   "metadata": {},
   "source": [
    "### Exercise 8.\n",
    "\n",
    "1. Explain how can the eigenvectors and eigenvalues of a square matrix be used to compute its exponential.\n",
    "2. Making use of the function `numpy.linalg.eig` compute the results of exponentiating Toeplitz' matrix\n",
    "$$\n",
    "A = \\left(\n",
    "\\begin{array}{cccc}\n",
    "0 & 1 & 2 & 3 \\\\\n",
    "1 & 0 & 1 & 2 \\\\\n",
    "2 & 1 & 0 & 1 \\\\\n",
    "3 & 2 & 1 & 0 \n",
    "\\end{array} \n",
    "\\right).\n",
    "$$\n",
    "3. Compare the results with those obtained with the scipy function `scipy.linalg.expm`"
   ]
  },
  {
   "cell_type": "code",
   "execution_count": null,
   "id": "ff188438",
   "metadata": {},
   "outputs": [],
   "source": [
    "# YOUR CODE GOES HERE"
   ]
  },
  {
   "cell_type": "markdown",
   "id": "8e132b5c",
   "metadata": {},
   "source": [
    "####### YOUR EXPLANATION GOES HERE (markdown)"
   ]
  },
  {
   "cell_type": "code",
   "execution_count": null,
   "id": "902c9c70",
   "metadata": {},
   "outputs": [],
   "source": []
  }
 ],
 "metadata": {
  "kernelspec": {
   "display_name": "base",
   "language": "python",
   "name": "base"
  },
  "language_info": {
   "codemirror_mode": {
    "name": "ipython",
    "version": 3
   },
   "file_extension": ".py",
   "mimetype": "text/x-python",
   "name": "python",
   "nbconvert_exporter": "python",
   "pygments_lexer": "ipython3",
   "version": "3.12.7"
  }
 },
 "nbformat": 4,
 "nbformat_minor": 5
}
