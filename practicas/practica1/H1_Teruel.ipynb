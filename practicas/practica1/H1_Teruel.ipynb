{
 "cells": [
  {
   "cell_type": "markdown",
   "id": "caa3914d",
   "metadata": {},
   "source": [
    "# Numerical Computing: Homework 1"
   ]
  },
  {
   "cell_type": "markdown",
   "id": "6e0cf0ad",
   "metadata": {},
   "source": [
    "###### Authors:\n",
    "\n",
    "* alberto.suarez@uam.es\n",
    "* Student 1: Andrés Teruel Fernández"
   ]
  },
  {
   "cell_type": "code",
   "execution_count": 1,
   "id": "ce0e8157",
   "metadata": {},
   "outputs": [],
   "source": [
    "import math\n",
    "import scipy as sp\n",
    "import numpy as np\n",
    "import sys\n",
    "import matplotlib.pyplot as plt\n",
    "import pandas as pd\n",
    "\n",
    "%load_ext autoreload\n",
    "%autoreload 2"
   ]
  },
  {
   "cell_type": "markdown",
   "id": "bdc7c312",
   "metadata": {},
   "source": [
    "### Exercise 1.\n",
    "\n",
    "The precision and magnitude of the numbers that can be represented and manipulated in a computer depend on the environment in which the operations are performed. For real numbers, **double precision** is commonly used.\n",
    "\n",
    "1. The goal of this exercise is to determine, using a systematic search procedure, the largest and the smallest positive (different from zero) values that can be represented in the following environments:\n",
    "    1. Excel (without using *Visual Basic*).\n",
    "    2. Python.\n",
    "    \n",
    "2. Provide an explanation of the results obtained.\n",
    "\n",
    "<u>HINTS</u>: \n",
    "1. Use a *while* loop\n",
    "2. Try to understand the information provided by `print(sys.float_info)`."
   ]
  },
  {
   "cell_type": "code",
   "execution_count": 2,
   "id": "031f5839",
   "metadata": {},
   "outputs": [
    {
     "name": "stdout",
     "output_type": "stream",
     "text": [
      "sys.float_info.max=1.7976931348623157e+308\n",
      "max_real=1.7976931348623157e+308\n",
      "Equal: True\n"
     ]
    }
   ],
   "source": [
    "# Find the largest power of 2 we can represent\n",
    "max_real = 1.0\n",
    "aux = 1.0\n",
    "exp = 0\n",
    "\n",
    "while not np.isinf(aux):\n",
    "    exp += 1\n",
    "    max_real = aux\n",
    "    aux *= 2.0\n",
    "\n",
    "# We can find exp is 1024 as confirmed by sys.float_info.max_exp\n",
    "\n",
    "# After finding the largest power of 2 representable, we look for the largest\n",
    "# mantissa in base 2 we can multiply 2**1024 by\n",
    "aux = max_real\n",
    "exp = exp - 53\n",
    "\n",
    "while not np.isinf(aux):\n",
    "    max_real = aux\n",
    "    aux += 2**exp\n",
    "    exp += 1\n",
    "\n",
    "print(f\"sys.float_info.max={sys.float_info.max}\")\n",
    "print(f\"max_real={max_real}\")\n",
    "print(f\"Equal: {sys.float_info.max == max_real}\")"
   ]
  },
  {
   "cell_type": "code",
   "execution_count": 3,
   "id": "c5781e39",
   "metadata": {},
   "outputs": [
    {
     "name": "stdout",
     "output_type": "stream",
     "text": [
      "sys.float_info.min=2.2250738585072014e-308\n",
      "math.ulp(0.0)=5e-324\n",
      "min_real=5e-324\n"
     ]
    }
   ],
   "source": [
    "# Compute the smallest positive double precision value. \n",
    "min_real = None\n",
    "aux = 1.0\n",
    "exp = 0\n",
    "\n",
    "# Find the smallest power of 2 that can be represented\n",
    "while aux != 0:\n",
    "    min_real = aux\n",
    "    exp = exp - 1\n",
    "    aux = 2.0**exp\n",
    "\n",
    "# The answer is stored in the variable min_real.\n",
    "print(f\"sys.float_info.min={sys.float_info.min}\")\n",
    "print(f\"math.ulp(0.0)={math.ulp(0.0)}\")\n",
    "print(f\"min_real={min_real}\")"
   ]
  },
  {
   "cell_type": "markdown",
   "id": "0a2f1ac1",
   "metadata": {},
   "source": [
    "__EXPLICACIÓN__\n",
    "\n",
    "- Para encontrar el positivo de doble precisión más grande que se pueda representar en Python, primero encontramos la potencia de 2 más grande que no haga *overflow* (en este caso es 2**1024, como nos confirma *sys.float_info.max_exp*). Para finalizar maximizamos la mantisa de forma que vamos sumando potencias de dos ascendentes al número hasta que haga *overflow*.\n",
    "\n",
    "    Para la búsqueda de la mantissa, en teoría podemos buscar solo entre el dígito 309 hasta el 292 ya que la mantisa está limitada a 16 dígitos en base 10 (pese a que *sys.float_info.dig* indica que son 15 los que se pueden representar fielmente, 16 es el máximo). Pese a este detalle, se iteran los 309 dígitos puesto que no supone una carga computacional alta.\n",
    "\n",
    "    Cuando comparamos nuestro resultado vemos que obtenemos el mismo valor.\n",
    "\n",
    "- Para encontrar el positivo de doble precisión más pequeño que se pueda representar en Python, encontraremos la potencia de 2 más pequeña que no haga *underflow*.\n",
    "\n",
    "    En este ejercicio encontramos un valor inesperado, ya que según *sys.float_info.min* el número positivo en coma flotante normalizado más pequeño es 2.2250738585072014e-308, pero nuestro resultado es min_real=5e-324 que claramente es más pequeño.\n",
    "\n",
    "    Tras investigar un poco, encontramos que el número positivo en coma flotante no-normalizado más pequeño posible es math.ulp(0.0)=5e-324, confirmando nuestro resultado.\n",
    "\n",
    "---"
   ]
  },
  {
   "cell_type": "markdown",
   "id": "0792315c",
   "metadata": {},
   "source": [
    "### Exercise 2.\n",
    "\n",
    "Due to rounding errors, in double precision there is a quantity **sys.float_info.epsilon** such that \n",
    "\n",
    "```\n",
    "(1.0 + sys.float_info.epsilon) == 1.0\n",
    "# False (the values compared are different)\n",
    " \n",
    "(1.0 + sys.float_info.epsilon/2.0) == 1.0\n",
    "# True (the values compared are equal)\n",
    "```\n",
    "1. Determine the largest values of *small-values* such that\n",
    "\n",
    "```\n",
    "(1.0 + small_values[0]) == 1.0\n",
    "# True (the values compared are equal)\n",
    "\n",
    "(1048576.0 + small_values[1]) == 1048576.0\n",
    "# True (the values compared are equal)\n",
    "\n",
    "(0.0009765625 + small_values[2]) == 0.0009765625\n",
    "# True (the values compared are equal)\n",
    "```\n",
    "\n",
    "2. Is there any relation among these values?\n",
    "3. Provide an explanation of the results obtained."
   ]
  },
  {
   "cell_type": "code",
   "execution_count": 4,
   "id": "d4a7eaed",
   "metadata": {},
   "outputs": [
    {
     "name": "stdout",
     "output_type": "stream",
     "text": [
      "True\n",
      "True\n",
      "True\n",
      "[1.11022302e-16 1.16415322e-10 1.08420217e-19]\n"
     ]
    }
   ],
   "source": [
    "values = np.array([1.0, 1048576.0, 0.0009765625])\n",
    "\n",
    "small_values =  values * sys.float_info.epsilon / 2.0\n",
    "\n",
    "print((1.0 + small_values[0]) == 1.0)\n",
    "print((1048576.0 + small_values[1]) == 1048576.0)\n",
    "print((0.0009765625 + small_values[2]) == 0.0009765625)\n",
    "\n",
    "print(small_values)"
   ]
  },
  {
   "cell_type": "markdown",
   "id": "8cc2a2af",
   "metadata": {},
   "source": [
    "__EXPLICACIÓN__\n",
    "\n",
    "1. Los valores más grandes de la lista _small_values_ que consiguen que la condicion se cumpla son mostrados en la celda anterior.\n",
    "\n",
    "2. Estos valores siguen el formato:  `numero_original * sys.float_info.epsilon / 2.0`\n",
    "\n",
    "3. En el formato de coma flotante de doble precisión hay 53 bits de la mantisa, pero el último bit es el único que no se tiene en cuenta al hacer las comparaciones. Con el valor `sys.float_info.epsilon` se hace referencia al penúltimo bit ($2^{-52}$), dividiéndo este valor entre 2 se referenciaría el último bit (2^-53). En función del número que se quiera comparar, este último bit de la mantisa representará valores distintos:\n",
    "\n",
    "   - En el caso del número uno el valor del último bit es 2^-53.\n",
    "   - Cuando se trata de un número más grande como 1048576, el valor del último bit de la mantisa representa el valor 1048576*2^-53. Cuando se añade éste al valor original la comparación considera que se trata del mismo valor, ya que este `small_value` se representa en el último bit de la matisa, el cual no se considera durante la comparación.\n",
    "   - De la misma manera cuando se trata de un valor menor, el último bit de la mantisa representa un valor menor que el señalado por `sys.float_info.epsilon`, pues añadir este valor supondría un cambio sobre el resto de bits de la mantisa.\n",
    "\n",
    "---"
   ]
  },
  {
   "cell_type": "markdown",
   "id": "09c445f5",
   "metadata": {},
   "source": [
    "### Exercise 3.\n",
    "Write a function to compute the factorial of a number\n",
    "$$\n",
    "n! = \\prod_{i=1}^n i.\n",
    "$$"
   ]
  },
  {
   "cell_type": "code",
   "execution_count": 5,
   "id": "bf99359f",
   "metadata": {},
   "outputs": [],
   "source": [
    "def factorial(n: int) -> float:\n",
    "    \"\"\" Compute the factorial of a number\n",
    "    Args:\n",
    "        n: Number whose factorial is computed\n",
    "\n",
    "    Returns:\n",
    "        n! in double precision (to avoid numerical problems).\n",
    "\n",
    "    Examples:\n",
    "        >>> factorial(0)\n",
    "        1\n",
    "        >>> factorial(5)\n",
    "        120\n",
    "        >>> factorial(100)\n",
    "        9.33262154439441e+157\n",
    "    \"\"\"\n",
    "\n",
    "    if n < 0:\n",
    "        raise ValueError('Only positive integers allowed.')\n",
    "    \n",
    "    return np.prod(np.arange(1, n+1, dtype=np.double))"
   ]
  },
  {
   "cell_type": "code",
   "execution_count": 6,
   "id": "90154ec8",
   "metadata": {},
   "outputs": [
    {
     "name": "stdout",
     "output_type": "stream",
     "text": [
      "1.0 120.0 9.33262154439441e+157\n"
     ]
    }
   ],
   "source": [
    "print(factorial(0), factorial(5), factorial(100))"
   ]
  },
  {
   "cell_type": "markdown",
   "id": "cf2226a5",
   "metadata": {},
   "source": [
    "__EXPLICACIÓN__\n",
    "\n",
    "Esta es una función sencilla que computa el factorial de un número.\n",
    "\n",
    "---"
   ]
  },
  {
   "cell_type": "markdown",
   "id": "49983618",
   "metadata": {},
   "source": [
    "### Exercise 4.\n",
    "\n",
    "A combinatorial number is the number of distinct manners in which one can select $k$ out of $n$ objects \n",
    "$$\n",
    " \\binom{n}{k} = \\frac{n!}{k!(n-k)!}.\n",
    "$$\n",
    "\n",
    "1. Design a function to compute combilnatorial numbers based on the factorial function defined in the previous exercise\n",
    "2. Test the design by computing the combinatorial numbers $\\binom{0}{0}, \\binom{5}{2}, \\binom{400}{0}, \\binom{400}{400}, \\binom{400}{200}$.\n",
    "3. If the initial design fails in some of the example, explain the reason for this failure.\n",
    "4. Modify the design so that the function yields the correct answer.\n"
   ]
  },
  {
   "cell_type": "code",
   "execution_count": 7,
   "id": "ce4fd5c0",
   "metadata": {},
   "outputs": [],
   "source": [
    "def combinatorial_number(n: int, k:int) -> float:\n",
    "    \"\"\" Compute the factorial of a number\n",
    "    Args:\n",
    "        n: Number of objects for selection\n",
    "        k: Number of selected objects\n",
    "\n",
    "    Returns:\n",
    "        The number of ways in which k objects can be selected from a set of n objects\n",
    "        \n",
    "\n",
    "    Examples:\n",
    "        >>> combinatorial_number(0, 0)\n",
    "        1.0\n",
    "        >>> combinatorial_number(5, 0)\n",
    "        1.0\n",
    "        >>> combinatorial_number(5, 5)\n",
    "        1.0\n",
    "        >>> combinatorial_number(5, 2)\n",
    "        10.0\n",
    "        >>> combinatorial_number(400, 0)\n",
    "        1.0\n",
    "        >>> combinatorial_number(400, 400)\n",
    "        1.0\n",
    "        >>> combinatorial_number(400, 200)\n",
    "        1.0295250013541435e+119\n",
    "    \"\"\"\n",
    "    numerator = factorial(n)\n",
    "    denominator = factorial(k) * factorial(n-k)\n",
    "\n",
    "    ret = numerator / denominator\n",
    "    \n",
    "    return ret"
   ]
  },
  {
   "cell_type": "code",
   "execution_count": 8,
   "id": "4395a41b",
   "metadata": {},
   "outputs": [
    {
     "name": "stdout",
     "output_type": "stream",
     "text": [
      "1.0\n",
      "1.0\n",
      "1.0\n",
      "10.0\n",
      "nan\n",
      "nan\n",
      "nan\n"
     ]
    },
    {
     "name": "stderr",
     "output_type": "stream",
     "text": [
      "/opt/conda/lib/python3.11/site-packages/numpy/core/fromnumeric.py:86: RuntimeWarning: overflow encountered in reduce\n",
      "  return ufunc.reduce(obj, axis, dtype, out, **passkwargs)\n",
      "/tmp/ipykernel_8324/198637707.py:30: RuntimeWarning: invalid value encountered in scalar divide\n",
      "  ret = numerator / denominator\n"
     ]
    }
   ],
   "source": [
    "print(combinatorial_number(0, 0))\n",
    "print(combinatorial_number(5, 0))\n",
    "print(combinatorial_number(5, 5))\n",
    "print(combinatorial_number(5, 2))\n",
    "print(combinatorial_number(400, 0))\n",
    "print(combinatorial_number(400, 400))\n",
    "print(combinatorial_number(400, 200))"
   ]
  },
  {
   "cell_type": "code",
   "execution_count": 9,
   "id": "6c8b7370-7d6a-4328-a248-57e359bdd569",
   "metadata": {},
   "outputs": [
    {
     "name": "stdout",
     "output_type": "stream",
     "text": [
      "170! = 7.257415615307994e+306\n",
      "171! = inf\n"
     ]
    }
   ],
   "source": [
    "i = 0\n",
    "while not np.isinf(factorial(i)):\n",
    "    i += 1\n",
    "\n",
    "print(f\"{i - 1}! = {factorial(i-1)}\")\n",
    "print(f\"{i}! = {factorial(i)}\")"
   ]
  },
  {
   "cell_type": "markdown",
   "id": "aa590405",
   "metadata": {},
   "source": [
    "__EXPLICACIÓN__\n",
    "\n",
    "Los últimos tres ejemplos fallan debido a *overflows* en el numerador y denominador ($400!$ es más grande que *max_real*, incluso $200!$ se sale del rango). Como enseña la celda previa, 170! es el factorial más grande que nuestra función factorial() puede computar.\n",
    "\n",
    "La siguiente función se ha implementado para evitar *overflows*, y en consecuencia corregir el cálculo final de los resultados:"
   ]
  },
  {
   "cell_type": "code",
   "execution_count": 10,
   "id": "fbeb3956-1b3a-49b4-bad0-73318769b7bb",
   "metadata": {},
   "outputs": [],
   "source": [
    "def combinatorial_number_2(n: int, k:int) -> float:\n",
    "    \"\"\" Compute the factorial of a number\n",
    "    Args:\n",
    "        n: Number of objects for selection\n",
    "        k: Number of selected objects\n",
    "\n",
    "    Returns:\n",
    "        The number of ways in which k objects can be selected from a set of n objects\n",
    "        \n",
    "\n",
    "    Examples:\n",
    "        >>> combinatorial_number_2(0, 0)\n",
    "        1.0\n",
    "        >>> combinatorial_number_2(5, 0)\n",
    "        1.0\n",
    "        >>> combinatorial_number_2(5, 5)\n",
    "        1.0\n",
    "        >>> combinatorial_number_2(5, 2)\n",
    "        10.0\n",
    "        >>> combinatorial_number_2(400, 0)\n",
    "        1.0\n",
    "        >>> combinatorial_number_2(400, 400)\n",
    "        1.0\n",
    "        >>> combinatorial_number_2(400, 200)\n",
    "        1.0295250013541435e+119\n",
    "    \"\"\"\n",
    "\n",
    "    # comb(n, k) == comb(n, n-k)\n",
    "    if (k > 0.5 * n):\n",
    "        k = n - k\n",
    "\n",
    "    numerator = np.arange(n-k+1, n + 1)\n",
    "    denominator = np.arange(1, k + 1)\n",
    "\n",
    "    return np.prod(numerator / denominator)"
   ]
  },
  {
   "cell_type": "code",
   "execution_count": 11,
   "id": "fb6b9958-5438-4014-9cf6-5df28100d1c9",
   "metadata": {},
   "outputs": [
    {
     "name": "stdout",
     "output_type": "stream",
     "text": [
      "1.0\n",
      "1.0\n",
      "1.0\n",
      "10.0\n",
      "1.0\n",
      "1.0\n",
      "1.0295250013541435e+119\n"
     ]
    }
   ],
   "source": [
    "print(combinatorial_number_2(0, 0))\n",
    "print(combinatorial_number_2(5, 0))\n",
    "print(combinatorial_number_2(5, 5))\n",
    "print(combinatorial_number_2(5, 2))\n",
    "print(combinatorial_number_2(400, 0))\n",
    "print(combinatorial_number_2(400, 400))\n",
    "print(combinatorial_number_2(400, 200))"
   ]
  },
  {
   "cell_type": "markdown",
   "id": "60b10606-88b2-46b3-a3e4-93ca09162f73",
   "metadata": {},
   "source": [
    "__EXPLICACIÓN__\n",
    "\n",
    "Para evitar *overflows*, aplicamos dos tretas:\n",
    "\n",
    "Primero cancelamos el factor más grande en el denominador con parte de los factores del numerador:\n",
    "\n",
    "* Si k es mayor o igual que n-k:\n",
    "$$\n",
    " \\frac{n!}{k!(n-k)!} = \\frac{n!}{k!}\\frac{1}{(n-k)!} = \\frac{\\prod_{i=k+1}^n i}{(n-k)!}\n",
    "$$\n",
    "\n",
    "* Si n-k es mayor que k:\n",
    "$$\n",
    " \\frac{n!}{k!(n-k)!} = \\frac{n!}{(n-k)!}\\frac{1}{k!} = \\frac{\\prod_{i=n-k+1}^n i}{k!}\n",
    "$$\n",
    "\n",
    "Para finalizar resolvemos el principal problema proveniente de calcular por separado el numerador y el denominador, cuyos valores sueltos son mucho más grandes que el resultado final, provocando *overflows* antes de computar el resultado final.\n",
    "\n",
    "Con el objetivo de minimizar los valores intermedios, computamos la solución de la siguiente manera:\n",
    "\n",
    "* Si k es mayor o igual que n-k:\n",
    "$$\n",
    " \\frac{\\prod_{i=k+1}^n i}{(n-k)!} = \\prod_{i=1}^{n-k} \\frac{k + i}{i}\n",
    "$$\n",
    "\n",
    "* Si n-k es mayor que k:\n",
    "$$\n",
    " \\frac{\\prod_{i=n-k+1}^n i}{k!} = \\prod_{i=1}^k \\frac{i + n - k}{i}\n",
    "$$\n",
    "\n",
    "---"
   ]
  },
  {
   "cell_type": "markdown",
   "id": "03def493",
   "metadata": {},
   "source": [
    "### Exercise 5.\n",
    "\n",
    "Consider the following series \n",
    "$$  S = \\sum_{n=1}^{\\infty} \\frac{1}{n^4} = \\frac{\\pi^4}{90}$$\n",
    "\n",
    "We will attempt to estimate its value in an approximate manner with the help of a computer.\n",
    "\n",
    "To this end, we compute the value of the truncatd series \n",
    "$$\n",
    "S\\approx S_N  = \\sum_{n=1}^N \\frac{1}{n^4},\n",
    "$$\n",
    "which provides an accurate approximation of $S$ for sufficiently large $N$\n",
    "$$\n",
    "\\lim_{N \\rightarrow \\infty} S_N  = S.\n",
    "$$\n",
    "\n",
    "The approximation errors are defined as\n",
    "$$\n",
    "error_{abs}(N) = \\left| S_N - S \\right|; \\\\ \n",
    "error_{rel}(N) = \\frac{\\left| S_N - S \\right|}{\\left| S \\right|} = \\left| \\frac{S_N}{S} - 1 \\right|.\n",
    "$$\n",
    "\n",
    "The question is what is the minimum error that can be achieved and how large does $N$ have to be to achieve is minimum. \n",
    "\n",
    "To investigate this issue, we will consider two possible implementations of the computation \n",
    "\n",
    "<u> IMPLEMENTATION 1</u>: Forward sum\n",
    "\n",
    "$$\n",
    "S_N^{\\rightarrow} = \\left(\\left(\\left(1 + \\frac{1}{2^4} \\right)\n",
    "+ \\frac{1}{3^4} \\right) + \\ldots + \\frac{1}{(N-1)^4} \\right) + \\frac{1}{N^4}.\n",
    "$$\t\n",
    "\n",
    "<u> IMPLEMENTATION 2</u>: backward sum\n",
    "$$\n",
    "S_N^{\\leftarrow} = \\left(\\left(\\left(\n",
    "\\frac{1}{N^4} +  \\frac{1}{(N-1)^4} \\right) + \\frac{1}{(N-2)^4} \\right)+⋯+ \\frac{1}{2^4} \\right) + 1.\n",
    "$$\t\n",
    "\n",
    "1. Implement functions to compute these quantities.\n",
    "2. Analyze the behavior of these quantities as a function of $N$.\n",
    "    1. Does the error decrease as $N$ becomes larger? \n",
    "    2. What is the smallest value of the error, and for which value of $N$ is it attained?\n",
    "    3. Are the smallest errors for $S_N^{\\rightarrow} =$ and $S_N^{\\leftarrow}$ equal? If not, which of the procedures is more accurate?\n",
    "    4. Make a table (for instance, using [pandas](https://pandas.pydata.org/docs/user_guide/10min.html)) and a plot (using [matplotlib](https://matplotlib.org/stable/tutorials/index.html)) of the relative value of the approximation error of $S_N^{\\rightarrow} =$ and $S_N^{\\leftarrow}$ as a function of $N$.\n",
    "3. Provide an explanation of the results obtained.\n",
    "\n",
    "<u> HINT</u>: The explanation of the results hinges on the observations made in exercise 2."
   ]
  },
  {
   "cell_type": "code",
   "execution_count": 12,
   "id": "854d4780",
   "metadata": {},
   "outputs": [
    {
     "name": "stdout",
     "output_type": "stream",
     "text": [
      "1.082323233711138\n"
     ]
    }
   ],
   "source": [
    "# Exact sum \n",
    "S_exact = np.pi**4 / 90.0\n",
    "print(S_exact)"
   ]
  },
  {
   "cell_type": "code",
   "execution_count": 13,
   "id": "c6b5de41",
   "metadata": {},
   "outputs": [
    {
     "name": "stdout",
     "output_type": "stream",
     "text": [
      "[1.         0.0625     0.01234568 0.00390625 0.0016    ]\n"
     ]
    }
   ],
   "source": [
    "# Series term\n",
    "def inverse_power(n, p):\n",
    "    return 1.0 / np.double(n)**p \n",
    "\n",
    "# Example (vectorized)\n",
    "N = 5\n",
    "n = np.arange(1, N+1)\n",
    "print(inverse_power(n, p=4))"
   ]
  },
  {
   "cell_type": "code",
   "execution_count": 14,
   "id": "c1581253",
   "metadata": {},
   "outputs": [
    {
     "name": "stdout",
     "output_type": "stream",
     "text": [
      "1.082323233711138\n",
      "1.082323233378306\n"
     ]
    }
   ],
   "source": [
    "# Forward sum\n",
    "def forward_sum(series_term, N):\n",
    "    n_terms = series_term(np.arange(1, N+1))\n",
    "    result = 0\n",
    "    for i in range(len(n_terms)):\n",
    "        result += n_terms[i]\n",
    "    return result\n",
    "        \n",
    "\n",
    "# Example of use\n",
    "\n",
    "print(S_exact)\n",
    "\n",
    "N = 1000\n",
    "series_term = lambda n: inverse_power(n, p=4) \n",
    "\n",
    "S_N_forward = forward_sum(series_term, N)\n",
    "print(S_N_forward)"
   ]
  },
  {
   "cell_type": "code",
   "execution_count": 15,
   "id": "9f43f965",
   "metadata": {},
   "outputs": [
    {
     "name": "stdout",
     "output_type": "stream",
     "text": [
      "1.082323233711138\n",
      "1.0823232333783046\n"
     ]
    }
   ],
   "source": [
    "# Backward sum\n",
    "\n",
    "def backward_sum(series_term, N):\n",
    "    n_terms = series_term(np.arange(N, 0, -1))\n",
    "    result = 0\n",
    "    for i in range(len(n_terms)):\n",
    "        result += n_terms[i]\n",
    "    return result\n",
    "\n",
    "# Example of use\n",
    "\n",
    "print(S_exact)\n",
    "\n",
    "N = 1000\n",
    "series_term = lambda n: inverse_power(n, p=4) \n",
    "\n",
    "S_N_backward = backward_sum(series_term, N)\n",
    "print(S_N_backward)"
   ]
  },
  {
   "cell_type": "code",
   "execution_count": 16,
   "id": "46cc7e67",
   "metadata": {},
   "outputs": [
    {
     "data": {
      "image/png": "[encoded data removed]",
      "text/plain": [
       "<Figure size 800x500 with 1 Axes>"
      ]
     },
     "metadata": {},
     "output_type": "display_data"
    },
    {
     "data": {
      "image/png": "[encoded data removed]",
      "text/plain": [
       "<Figure size 640x480 with 1 Axes>"
      ]
     },
     "metadata": {},
     "output_type": "display_data"
    },
    {
     "data": {
      "image/png": "[encoded data removed]",
      "text/plain": [
       "<Figure size 640x480 with 1 Axes>"
      ]
     },
     "metadata": {},
     "output_type": "display_data"
    }
   ],
   "source": [
    "# YOUR CODE GOES HERE\n",
    "N_values = np.arange(1000, 100001, 1000)\n",
    "\n",
    "# Cálculo de resultados\n",
    "forward_results = np.array([forward_sum(series_term, n) for n in N_values])\n",
    "backward_results = np.array([backward_sum(series_term, n) for n in N_values])\n",
    "\n",
    "# Calculo de errores\n",
    "err_abs_forward = np.abs((S_exact-forward_results))\n",
    "err_rel_forward = err_abs_forward/S_exact\n",
    "\n",
    "err_abs_backward = np.abs((S_exact-backward_results))\n",
    "err_rel_backward = err_abs_backward/S_exact\n",
    "\n",
    "\n",
    "# Gráficas \n",
    "plt.figure(figsize=(8, 5))\n",
    "plt.plot(N_values[5:], forward_results[5:], label='Forward Sum')\n",
    "plt.plot(N_values[5:], backward_results[5:], label='Backward Sum')\n",
    "plt.axhline(y=S_exact, color='red', linestyle='--', label='Exact Value')\n",
    "plt.xlabel('N')\n",
    "plt.ylabel('Series Sum')\n",
    "plt.title('Gráfica 1: Sumas acumuladas de la serie')\n",
    "plt.legend()\n",
    "plt.grid(True)\n",
    "plt.show()\n",
    "\n",
    "plt.title(\"Gráfica 2: Errores relativos de las operaciones\")\n",
    "plt.xlabel(\"N\")\n",
    "plt.ylabel(\"Error relativo\")\n",
    "plt.plot(N_values[5:], err_rel_forward[5:], label='Suma hacia delante')\n",
    "plt.plot(N_values[5:], err_rel_backward[5:], label='Suma hacia atrás')\n",
    "plt.legend()\n",
    "plt.show()\n",
    "\n",
    "plt.clf()\n",
    "\n",
    "plt.title(\"Gráfica 3: Error relativo de la suma hacia atrás\")\n",
    "plt.xlabel(\"N\")\n",
    "plt.ylabel(\"Error relativo\")\n",
    "plt.plot(N_values[-50:], err_rel_backward[-50:], marker=\".\")\n",
    "plt.show()"
   ]
  },
  {
   "cell_type": "markdown",
   "id": "0f98b646",
   "metadata": {},
   "source": [
    "__EXPLICACIÓN__\n",
    "\n",
    "En ambas implementaciones, al aumentar N decrecen tanto el error absoluto como el relativo, pero sólo hasta cierto punto a partir del cual el ordenador no puede recoger más decimales.\n",
    "\n",
    "En el caso de la implementación de la suma hacia delante, los errores absoluto y relativo más pequeños obtenidos son 2.768896e-13 y 2.55829e-13, respectivamente. El primer valor de $N$ que consigue estos resultados es 9741, todos los valores que lo suceden tienen la característica de ser lo suficientemente pequeños para que la variable que acumula el resultado no los pueda recoger. Esto se debe a que el punto de partida es el número 1, de tal manera que el último bit de la mantissa corresponde con el valor 2^-53, haciendo que todos los valores menores que este se pierdan. Según los siguientes cálculos se puede justificar que los valores de $N$ a partir de 9742 no suponen ninguna mejora.\n",
    "$$\n",
    "\\frac{1}{N^4}< 2^{-53} ; N > 2^{13}\\sqrt[4]{2} = 9741.98\n",
    "$$\n",
    "\n",
    "Por el contrario, con la implementación de la suma hacia atrás se consigue una aproximación que el ordenador considera perfecta; tanto el error absoluto como el error relativo llegan a ser cero, siendo 96519 el primer valor de $N$ que alcanza este resultado. Esta versión de la aproximación consigue mejores resultados que la anterior porque comienza con números pequeños, que al ir sumándose a otros no tan grandes, termina por alcanzar el resultado final sin haber perdido una gran cantidad de valores decimales durante el proceso.\n",
    "\n",
    "La gráfica 1 da a entender que ambas implementaciones consiguen los mismos resultados; sin embargo, este no es el caso. En las gráficas se ha ignorado los primeros datos para realizar una gráfica más representativa. En esta se puede ver cómo la implementación de suma hacia atrás deja de disminuir el error, mientras que la otra implementación continúa mejorando los resultados. En la gráfica 3 se puede observar cómo se comporta esta última implementación.\n",
    "\n",
    "---"
   ]
  },
  {
   "cell_type": "markdown",
   "id": "786dc9ec",
   "metadata": {},
   "source": [
    "### Exercise 6.\n",
    "\n",
    "Consider the following code:"
   ]
  },
  {
   "cell_type": "code",
   "execution_count": 17,
   "id": "03b351be",
   "metadata": {},
   "outputs": [
    {
     "name": "stdout",
     "output_type": "stream",
     "text": [
      "(0.9544997361036416, 1.8403548653972358e-11)\n"
     ]
    }
   ],
   "source": [
    "from scipy.integrate import quad\n",
    "from scipy.stats import norm\n",
    "\n",
    "\n",
    "mu = 1.35\n",
    "sigma = 0.25\n",
    "f  = lambda x: norm.pdf(x,mu,sigma); \n",
    "\n",
    "def mystery_function(alpha):\n",
    "    x_inf = mu-alpha*sigma;\n",
    "    x_sup = mu+alpha*sigma;\n",
    "    return quad(f, x_inf, x_sup, epsabs=1.0e-10, epsrel=1.0e-10)\n",
    "\n",
    "alpha = 2.0\n",
    "print(mystery_function(alpha))"
   ]
  },
  {
   "cell_type": "markdown",
   "id": "4a74c961",
   "metadata": {},
   "source": [
    "1. Explain what is being computed with this piece of code.\n",
    "2. Does the value that is beign computed change with the values of $\\mu$ and $\\sigma$? \n",
    "3. Provide a mathematical derivation (use [latex within a markdown cell](https://towardsdatascience.com/write-markdown-latex-in-the-jupyter-notebook-10985edb91fd)) to explain what is observed.\n",
    "4. Use the above derivation to compute the value of the integral for $\\alpha = \\infty$.\n",
    "5. What is the smallest value of $\\alpha$ that is needed to achieve a result numerically equivalent to the one obtained with $\\alpha = \\infty$ ?\n",
    "\n",
    "<u>HINTS</u>: \n",
    "* Look for information on `quad`,`norm`. \n",
    "* You may need to modify the values of `epsabs` and / or `epsrel` to answer the last question."
   ]
  },
  {
   "cell_type": "code",
   "execution_count": 18,
   "id": "3b75ddf1",
   "metadata": {},
   "outputs": [
    {
     "name": "stdout",
     "output_type": "stream",
     "text": [
      "Solución con np.inf\n",
      " Alfa: inf\n",
      " Probabilidad: 1.0000000000000349\n",
      " Error absoluto:6.353878763887597e-11\n",
      "\n",
      "Aproximación variando alpha\n",
      " Alfa: 8.299999999999986\n",
      " Probabilidad: 1.0000000000000002\n",
      " Error absoluto:1.7936950000654612e-11\n"
     ]
    }
   ],
   "source": [
    "alpha = np.inf\n",
    "prob_inf, err_inf = mystery_function(alpha)\n",
    "minus_err_inf = prob_inf-err_inf\n",
    "print('Solución con np.inf')\n",
    "print(f' Alfa: {alpha}\\n Probabilidad: {prob_inf}\\n Error absoluto:{err_inf}')\n",
    "\n",
    "alpha = 2.0\n",
    "prob = 0.0\n",
    "while not prob >= 1.0:\n",
    "    alpha += 0.1\n",
    "    prob, err = mystery_function(alpha)\n",
    "\n",
    "print('\\nAproximación variando alpha')\n",
    "print(f' Alfa: {alpha}\\n Probabilidad: {prob}\\n Error absoluto:{err}')\n"
   ]
  },
  {
   "cell_type": "markdown",
   "id": "a5cd2095",
   "metadata": {},
   "source": [
    "__EXPLICACIÓN__\n",
    "\n",
    "La función `f` representa una función densidad de probabilidad, en concreto, la distribución normal donde la variable `mu` es la media y `sigma` la desviación típica. \n",
    "\n",
    "La función implementada se encarga de calcular la probabilidad de que una variable aleatoria, que siga dicha función densidad, se encuentre entre los valores `x_inf` y `x_sup`, y para ello se realiza la integral definida mostrada a continuación. La variable `alpha` es proporcional al ancho de este márgen de valores. \n",
    "\n",
    "$$\n",
    "P(\\mu-\\alpha\\sigma \\leq X \\leq \\mu+\\alpha\\sigma) =  \\int_{\\mu-\\alpha\\sigma}^{\\mu+\\alpha\\sigma} \\frac{1}{\\sigma\\sqrt{2\\pi}}e^{-\\frac{(x-\\mu)^2}{2\\sigma^2}} dx\n",
    "$$\n",
    "\n",
    "El valor calculado por la función `mystery_function` no varía al cambiar la media o la desviación típica, esto se debe a que los límites inferior y superior de la integral varían de la misma manera que la función distribución de probabilidad.\n",
    "\n",
    "Haciendo que alpha tome el valor de infinito con `np.inf` se consigue una probabilidad junto con un error absoluto en el que se incluye el valor 1, el valor esperado. El valor de alpha más pequeño que se aproxima al resultado anterior es 8.3.\n",
    "\n",
    "---"
   ]
  },
  {
   "cell_type": "markdown",
   "id": "0422a8c3",
   "metadata": {},
   "source": [
    "### Exercise 7.\n",
    "Execute the following code several times."
   ]
  },
  {
   "cell_type": "code",
   "execution_count": 19,
   "id": "5ce4d4f6",
   "metadata": {
    "scrolled": true
   },
   "outputs": [
    {
     "name": "stdout",
     "output_type": "stream",
     "text": [
      "[[0 1 2 3]\n",
      " [1 0 1 2]\n",
      " [2 1 0 1]\n",
      " [3 2 1 0]]\n",
      "-4.637252764507725\n",
      "22.576468105557236\n",
      "8.034101796493339\n",
      "6.19929594300445\n",
      "5.58615543842783\n",
      "5.34263487503468\n",
      "5.240245147661242\n",
      "5.196208568342507\n",
      "5.177086752617079\n",
      "5.168749166798515\n",
      "5.1651072254953965\n",
      "5.163515138977348\n",
      "5.1628189142263485\n",
      "5.162514407118525\n",
      "5.162381216413556\n",
      "5.16232295743451\n",
      "5.16229747404012\n",
      "5.162286327141095\n",
      "5.162281451273518\n",
      "5.162279318473216\n",
      "5.162278385544019\n",
      "5.162277977462184\n",
      "5.162277798959036\n",
      "5.16227772087819\n",
      "5.162277686724066\n",
      "5.162277671784368\n",
      "5.162277665249445\n",
      "5.162277662390938\n",
      "5.162277661140571\n",
      "5.162277660593635\n",
      "5.162277660354395\n",
      "5.162277660249746\n",
      "5.162277660203971\n",
      "5.162277660183947\n",
      "5.162277660175189\n",
      "5.162277660171358\n",
      "5.162277660169682\n",
      "5.162277660168949\n",
      "5.1622776601686295\n",
      "5.162277660168488\n",
      "5.162277660168427\n",
      "5.1622776601683995\n",
      "5.162277660168389\n",
      "5.1622776601683835\n",
      "5.162277660168381\n",
      "5.162277660168381\n",
      "5.16227766016838\n",
      "5.16227766016838\n",
      "5.162277660168379\n",
      "5.16227766016838\n"
     ]
    }
   ],
   "source": [
    "N = 4;\n",
    "i = range(1, N+1)\n",
    "i, j = np.meshgrid(i, i);\n",
    "A = np.abs(i-j)\n",
    "print(A)\n",
    "v0 = np.random.randn(N)\n",
    "MAX_ITER  = 50;\n",
    "for i in range(MAX_ITER):\n",
    "    v1 = A @ v0;\n",
    "    squared_norm = np.dot(v1, v1)\n",
    "    lamb =  squared_norm / np.dot(v0, v1)\n",
    "    print(lamb)\n",
    "    v0 = v1 / np.sqrt(squared_norm)"
   ]
  },
  {
   "cell_type": "markdown",
   "id": "3b8c50b8",
   "metadata": {},
   "source": [
    "Provide an explanation of what the code does and of the results observed.\n",
    "\n",
    "<u> HINT </u>:\n",
    "Investigate the functionality of the numpy function `numpy.linalg.eig`."
   ]
  },
  {
   "cell_type": "markdown",
   "id": "68a16de9-4d76-4a86-8d81-f109db1f8461",
   "metadata": {},
   "source": [
    "__EXPLICACIÓN__\n",
    "\n",
    "El código de este ejercicio calcula un autovalor aleatorio de la matriz $A$. Para ello se parte de un vector aleatorio $v0$ que es multiplicado por la matriz $A$ multiples veces. Con cada multiplicación ($A v0$) el vector resultante ($v1$) se acerca más y más a la dirección de uno de los autovectores de dicha matriz. Tras cada multiplicación se normaliza el vector para que tenga módulo uno, así evitando tratar con vectores muy grandes. En cada iteración del bucle se aproxima también un autovalor de la matriz $A$, realizando la división entre el producto escalar de $v1$ con sí mismo entre el producto escalar de $v0$ y $v1$, o lo que es lo mismo, calcular la proporción en la que ha crecido (o disminuido) el vector, es decir, el autovalor $\\lambda$ relacionado con el autovector $v1$.\n",
    "\n",
    "---"
   ]
  },
  {
   "cell_type": "markdown",
   "id": "02479170",
   "metadata": {},
   "source": [
    "####### YOUR EXPLANATION GOES HERE (markdown)"
   ]
  },
  {
   "cell_type": "markdown",
   "id": "13e3a458",
   "metadata": {},
   "source": [
    "### Exercise 8.\n",
    "\n",
    "1. Explain how can the eigenvectors and eigenvalues of a square matrix be used to compute its exponential.\n",
    "2. Making use of the function `numpy.linalg.eig` compute the results of exponentiating Toeplitz' matrix\n",
    "$$\n",
    "A = \\left(\n",
    "\\begin{array}{cccc}\n",
    "0 & 1 & 2 & 3 \\\\\n",
    "1 & 0 & 1 & 2 \\\\\n",
    "2 & 1 & 0 & 1 \\\\\n",
    "3 & 2 & 1 & 0 \n",
    "\\end{array} \n",
    "\\right).\n",
    "$$\n",
    "3. Compare the results with those obtained with the scipy function `scipy.linalg.expm`"
   ]
  },
  {
   "cell_type": "code",
   "execution_count": 20,
   "id": "ff188438",
   "metadata": {},
   "outputs": [
    {
     "name": "stdout",
     "output_type": "stream",
     "text": [
      "Matriz resultante:\n",
      "[[57.54897396 41.23414727 41.41932638 57.43936799]\n",
      " [41.23414727 30.18299519 29.70303099 41.41932638]\n",
      " [41.41932638 29.70303099 30.18299519 41.23414727]\n",
      " [57.43936799 41.41932638 41.23414727 57.54897396]]\n",
      "Error absoluto\n",
      "[[2.70006240e-13 1.91846539e-13 2.13162821e-13 2.91322522e-13]\n",
      " [1.56319402e-13 1.24344979e-13 1.27897692e-13 1.84741111e-13]\n",
      " [1.56319402e-13 1.13686838e-13 1.20792265e-13 1.56319402e-13]\n",
      " [2.34479103e-13 1.84741111e-13 1.77635684e-13 2.62900812e-13]]\n",
      "Error relativo\n",
      "[[4.69176461e-15 4.65261322e-15 5.14645793e-15 5.07182673e-15]\n",
      " [3.79101818e-15 4.11970310e-15 4.30588018e-15 4.46026354e-15]\n",
      " [3.77406915e-15 3.82744905e-15 4.00199729e-15 3.79101818e-15]\n",
      " [4.08220200e-15 4.46026354e-15 4.30797520e-15 4.56829712e-15]]\n"
     ]
    }
   ],
   "source": [
    "a = [[0, 1, 2, 3],\n",
    "     [1, 0, 1, 2],\n",
    "     [2, 1, 0, 1],\n",
    "     [3, 2, 1, 0]]\n",
    "\n",
    "# Compute the matrix eigenvalues and eigenvectors\n",
    "eigenvalues, s_matrix = np.linalg.eig(a)\n",
    "\n",
    "# Since 'a' is a matrix of 4x4 and it has 4 distinct eigenvalues\n",
    "# 'a' it is diagonizable and its exponential can be computed fairly easy\n",
    "s_inverse = np.linalg.inv(s_matrix)\n",
    "\n",
    "diag_exp = np.diag(np.exp(eigenvalues))\n",
    "\n",
    "a_exp = s_matrix @ diag_exp @ s_inverse\n",
    "scipy_result = sp.linalg.expm(a)\n",
    "\n",
    "print(f'Matriz resultante:\\n{a_exp}')\n",
    "print('Error absoluto')\n",
    "print(np.abs(scipy_result - a_exp))\n",
    "print('Error relativo')\n",
    "print(np.abs((scipy_result - a_exp) / scipy_result))"
   ]
  },
  {
   "cell_type": "markdown",
   "id": "8e132b5c",
   "metadata": {},
   "source": [
    "__EXPLICACIÓN__\n",
    "\n",
    "1. Cálculo de la exponencial de la matriz A.\n",
    "\n",
    "    El cálculo de la exponencial de una matriz cuadrada es relativamente sencillo mediante el uso de autovalores y autovectores en el caso de que dicha matriz sea diagonalizable.\n",
    "\n",
    "    Por suerte para nosotros la matriz de Toeplitz es diagonalizable. Esto se confirma puesto que es una matriz de 4x4 y tiene 4 autovectores distintos.\n",
    "\n",
    "    1. Calculamos la matriz S cuyas columnas son los autovecores (v1, v2, v3 y v4) de A: \n",
    "\n",
    "    $$\n",
    "    S = \\left(\n",
    "    \\begin{array}{cccc}\n",
    "    v1 & v2 & v3 & v4 \n",
    "    \\end{array} \n",
    "    \\right).\n",
    "    $$\n",
    "\n",
    "    2. Mediante S, su inversa y los autovalores (lambda1, lambda2, lambda3 y lambda4), se puede calcular el exponencial de A de la siguiente manera:\n",
    "\n",
    "    $$\n",
    "    e^A = S \\left(\n",
    "    \\begin{array}{cccc}\n",
    "    e^{\\lambda_{1}} & 0 & 0 & 0 \\\\\n",
    "    0 & e^{\\lambda_{2}} & 0 & 0 \\\\\n",
    "    0 & 0 & e^{\\lambda_{3}} & 0 \\\\\n",
    "    0 & 0 & 0 & e^{\\lambda_{4}} \n",
    "    \\end{array} \n",
    "    \\right) S^{-1}\n",
    "    $$\n",
    "\n",
    "\n",
    "2. Comparación de resultados.\n",
    "\n",
    "    Siguiendo el algoritmo descrito en el apartado anterior y sp.linalg.expm() se obtiene resultados bastante similares.\n",
    "\n",
    "---"
   ]
  }
 ],
 "metadata": {
  "kernelspec": {
   "display_name": "Python 3 (ipykernel)",
   "language": "python",
   "name": "python3"
  },
  "language_info": {
   "codemirror_mode": {
    "name": "ipython",
    "version": 3
   },
   "file_extension": ".py",
   "mimetype": "text/x-python",
   "name": "python",
   "nbconvert_exporter": "python",
   "pygments_lexer": "ipython3",
   "version": "3.11.6"
  }
 },
 "nbformat": 4,
 "nbformat_minor": 5
}
