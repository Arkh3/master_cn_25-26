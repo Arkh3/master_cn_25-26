{
 "cells": [
  {
   "cell_type": "markdown",
   "id": "caa3914d",
   "metadata": {},
   "source": [
    "# H002: Numerical errors"
   ]
  },
  {
   "cell_type": "markdown",
   "id": "6e0cf0ad",
   "metadata": {},
   "source": [
    "Student 1: David Álvarez Saez\n",
    "\n",
    "Student 2: Andrés Teruel Fernández"
   ]
  },
  {
   "cell_type": "code",
   "execution_count": 1,
   "id": "ce0e8157",
   "metadata": {},
   "outputs": [],
   "source": [
    "import sys\n",
    "import math\n",
    "import scipy as sp\n",
    "import numpy as np\n",
    "import pandas as pd\n",
    "import matplotlib.pyplot as plt"
   ]
  },
  {
   "cell_type": "markdown",
   "id": "bdc7c312",
   "metadata": {},
   "source": [
    "### Exercise 1.\n",
    "\n",
    "The precision and magnitude of the numbers that can be represented and manipulated in a computer depend on the environment in which the operations are performed. For real numbers, **double precision** is commonly used.\n",
    "\n",
    "1. The goal of this exercise is to determine, using a systematic search procedure, the largest and the smallest positive (different from zero) values that can be represented in the following environments:\n",
    "    1. Excel (without using *Visual Basic*).\n",
    "    2. Python.\n",
    "    \n",
    "2. Provide an explanation of the results obtained.\n",
    "\n",
    "<u>HINTS</u>: \n",
    "1. Use a *while* loop\n",
    "2. Try to understand the information provided by `print(sys.float_info)`."
   ]
  },
  {
   "cell_type": "code",
   "execution_count": 2,
   "id": "29254707-8431-44a4-9f0c-9d975059fb3d",
   "metadata": {},
   "outputs": [
    {
     "name": "stdout",
     "output_type": "stream",
     "text": [
      "sys.float_info.max=1.7976931348623157e+308\n",
      "max_real=1.7976931348623157e+308\n",
      "Equal: True\n"
     ]
    }
   ],
   "source": [
    "# Find the largest power of 2 we can represent\n",
    "max_real = 1.0\n",
    "aux = 1.0\n",
    "exp = 0\n",
    "\n",
    "while not np.isinf(aux):\n",
    "    exp += 1\n",
    "    max_real = aux\n",
    "    aux *= 2.0\n",
    "\n",
    "# We can find exp is 1024 as confirmed by sys.float_info.max_exp\n",
    "\n",
    "# After finding the largest power of 2 representable, we look for the largest\n",
    "# mantissa in base 2 we can multiply 2**1024 by\n",
    "aux = max_real\n",
    "exp = exp - 53\n",
    "\n",
    "while not np.isinf(aux):\n",
    "    max_real = aux\n",
    "    aux += 2**exp\n",
    "    exp += 1\n",
    "\n",
    "print(f\"sys.float_info.max={sys.float_info.max}\")\n",
    "print(f\"max_real={max_real}\")\n",
    "print(f\"Equal: {sys.float_info.max == max_real}\")"
   ]
  },
  {
   "cell_type": "code",
   "execution_count": 3,
   "id": "c5781e39",
   "metadata": {},
   "outputs": [
    {
     "name": "stdout",
     "output_type": "stream",
     "text": [
      "sys.float_info.min=2.2250738585072014e-308\n",
      "math.ulp(0.0)=5e-324\n",
      "min_real=5e-324\n"
     ]
    }
   ],
   "source": [
    "# Compute the smallest positive double precision value. \n",
    "min_real = None\n",
    "aux = 1.0\n",
    "exp = 0\n",
    "\n",
    "# Find the smallest power of 2 that can be represented\n",
    "while aux != 0:\n",
    "    min_real = aux\n",
    "    exp = exp - 1\n",
    "    aux = 2.0**exp\n",
    "\n",
    "# The answer is stored in the variable min_real.\n",
    "print(f\"sys.float_info.min={sys.float_info.min}\")\n",
    "print(f\"math.ulp(0.0)={math.ulp(0.0)}\")\n",
    "print(f\"min_real={min_real}\")"
   ]
  },
  {
   "cell_type": "markdown",
   "id": "0a2f1ac1",
   "metadata": {},
   "source": [
    "__EXPLICACIÓN__\n",
    "\n",
    "- Para encontrar el positivo de doble precisión más grande que se pueda representar en Python, primero encontramos la potencia de 10 más grande que no haga *overflow* (en este caso es 10**308, como nos confirma *sys.float_info.max_10.exp*). Para finalizar iteramos por todos los 309 dígitos, de más a menos significativos, encontrando para cada dígito el mayor valor entre 0 y 9 que no haga *overflow*.\n",
    "\n",
    "    En teoría podemos buscar solo entre el dígito 309 hasta el 292 ya que la mantisa está limitada a 16 dígitos en base 10 (pese a que *sys.float_info.dig* indica que son 15 los que se pueden representar fielmente, 16 es el máximo). Pese a este detalle, se iteran los 309 dígitos puesto que no supone una carga computacional alta.\n",
    "\n",
    "    Cuando comparamos nuestro resultado con *sys.float_info.max_10.max* vemos que obtenemos el mismo valor.\n",
    "\n",
    "- Para encontrar el positivo de doble precisión más pequeño que se pueda representar en Python, encontraremos la potencia de 10 más pequeña que no haga *underflow*. Después buscamos si hay algún valor mayor a 1 en la siguiente potencia más pequeña de 10 que no haga *underflow*.\n",
    "\n",
    "    En este ejercicio encontramos un valor inesperado, ya que según *sys.float_info.min* el número positivo en coma flotante normalizado más pequeño es 2.2250738585072014e-308, pero nuestro resultado es min_real=5e-324 que claramente es más pequeño.\n",
    "\n",
    "    Tras investigar un poco, encontramos que el número positivo en coma flotante no-normalizado más pequeño posible es math.ulp(0.0)=5e-324, confirmando nuestro resultado.\n",
    "\n",
    "---"
   ]
  },
  {
   "cell_type": "markdown",
   "id": "0792315c",
   "metadata": {},
   "source": [
    "### Exercise 2.\n",
    "\n",
    "Due to rounding errors, in double precision there is a quantity **sys.float_info.epsilon** such that \n",
    "\n",
    "```\n",
    "(1.0 + sys.float_info.epsilon) == 1.0\n",
    "# False (the values compared are different)\n",
    " \n",
    "(1.0 + sys.float_info.epsilon/2.0) == 1.0\n",
    "# True (the values compared are equal)\n",
    "```\n",
    "1. Determine the largest values of *small-values* such that\n",
    "\n",
    "```\n",
    "(1.0 + small_values[0]) == 1.0\n",
    "# True (the values compared are equal)\n",
    "\n",
    "(1048576.0 + small_values[1]) == 1048576.0\n",
    "# True (the values compared are equal)\n",
    "\n",
    "(0.0009765625 + small_values[2]) == 0.0009765625\n",
    "# True (the values compared are equal)\n",
    "```\n",
    "\n",
    "2. Is there any relation among these values?\n",
    "3. Provide an explanation of the results obtained."
   ]
  },
  {
   "cell_type": "code",
   "execution_count": 4,
   "id": "ed0d9944-1029-4dac-b6d2-0fa0571a98ad",
   "metadata": {},
   "outputs": [
    {
     "name": "stdout",
     "output_type": "stream",
     "text": [
      "True\n",
      "True\n",
      "True\n",
      "[1.1102230246251565e-16, 1.1641532182693481e-10, 1.0842021724855044e-19]\n"
     ]
    }
   ],
   "source": [
    "small_values = [1.0*sys.float_info.epsilon/2.0, 1048576.0*sys.float_info.epsilon/2.0, 0.0009765625*sys.float_info.epsilon/2.0]\n",
    "\n",
    "print((1.0 + small_values[0]) == 1.0)\n",
    "print((1048576.0 + small_values[1]) == 1048576.0)\n",
    "print((0.0009765625 + small_values[2]) == 0.0009765625)\n",
    "\n",
    "print(small_values)"
   ]
  },
  {
   "cell_type": "markdown",
   "id": "8cc2a2af",
   "metadata": {},
   "source": [
    "__EXPLICACIÓN__\n",
    "\n",
    "1. Los valores más grandes de la lista _small_values_ que consiguen que la condicion se cumpla son mostrados en la celda anterior.\n",
    "\n",
    "2. Estos valores siguen el formato:  `numero_original*sys.float_info.epsilon/2.0`\n",
    "\n",
    "3. En el formato de coma flotante de doble precisión hay 53 bits de la mantisa, pero el último bit es el único que no se tiene en cuenta al hacer las comparaciones. Con el valor `sys.float_info.epsilon` se hace referencia al penúltimo bit (2^-52), dividiéndo este valor entre 2 se referenciaría el último bit (2^-53). En función del número que se quiera comparar, este último bit de la mantisa representará valores distintos:\n",
    "\n",
    "   - En el caso del número uno el valor del último bit es 2^-53.\n",
    "   - Cuando se trata de un número más grande como 1048576, el valor del último bit de la mantisa representa el valor 1048576*2^-53. Cuando se añade éste al valor original la comparación considera que se trata del mismo valor, ya que este `small_value` se representa en el último bit de la matisa, el cual no se considera durante la comparación.\n",
    "   - De la misma manera cuando se trata de un valor menor, el último bit de la mantisa representa un valor menor que el señalado por `sys.float_info.epsilon`, pues añadir este valor supondría un cambio sobre el resto de bits de la mantisa.\n",
    "\n",
    "---"
   ]
  },
  {
   "attachments": {},
   "cell_type": "markdown",
   "id": "6e9f254e-5b84-4e45-a64e-c95debf8f47b",
   "metadata": {},
   "source": [
    "### Exercise 3.\n",
    "Write a function to compute the factorial of a number\n",
    "$$\n",
    "n! = \\prod_{i=1}^n i.\n",
    "$$"
   ]
  },
  {
   "cell_type": "code",
   "execution_count": 5,
   "id": "ee01c1d0-7b5b-4ffc-9c93-2af2f9dec209",
   "metadata": {},
   "outputs": [],
   "source": [
    "def factorial(n: int) -> float:\n",
    "    \"\"\" Compute the factorial of a number\n",
    "    Args:\n",
    "        n: Number whose factorial is computed\n",
    "\n",
    "    Returns:\n",
    "        n! in double precision (to avoid numerical problems).\n",
    "\n",
    "    Examples:\n",
    "        >>> factorial(0)\n",
    "        1\n",
    "        >>> factorial(5)\n",
    "        120\n",
    "        >>> factorial(100)\n",
    "        9.33262154439441e+157\n",
    "    \"\"\"\n",
    "\n",
    "    if n < 0:\n",
    "        raise ValueError('Only positive integers allowed.')\n",
    "    \n",
    "    return np.prod(np.arange(1, n+1, dtype=np.double))"
   ]
  },
  {
   "cell_type": "code",
   "execution_count": 6,
   "id": "465dee5f",
   "metadata": {},
   "outputs": [
    {
     "name": "stdout",
     "output_type": "stream",
     "text": [
      "1.0\n",
      "120.0\n",
      "9.33262154439441e+157\n"
     ]
    }
   ],
   "source": [
    "print(factorial(0))\n",
    "print(factorial(5))\n",
    "print(factorial(100))"
   ]
  },
  {
   "cell_type": "markdown",
   "id": "bf8582bc-a466-4b90-81d0-e3c3755d908e",
   "metadata": {},
   "source": [
    "---"
   ]
  },
  {
   "cell_type": "markdown",
   "id": "49983618",
   "metadata": {},
   "source": [
    "### Exercise 4.\n",
    "\n",
    "A combinatorial number is the number of distinct manners in which one can select $k$ out of $n$ objects \n",
    "$$\n",
    " \\binom{n}{k} = \\frac{n!}{k!(n-k)!}.\n",
    "$$\n",
    "\n",
    "1. Design a function to compute combinatorial numbers based on the factorial function defined in the previous exercise.\n",
    "2. Test the design by computing the combinatorial numbers $\\binom{0}{0}, \\binom{5}{2}, \\binom{400}{0}, \\binom{400}{400}, \\binom{400}{200}$.\n",
    "3. If the initial design fails in some of the example, explain the reason for this failure.\n",
    "4. Modify the design so that the function yields the correct answer.\n"
   ]
  },
  {
   "cell_type": "code",
   "execution_count": 7,
   "id": "ce4fd5c0",
   "metadata": {},
   "outputs": [],
   "source": [
    "def combinatorial_number(n: int, k:int) -> float:\n",
    "    \"\"\" Compute the factorial of a number\n",
    "    Args:\n",
    "        n: Number of objects for selection\n",
    "        k: Number of selected objects\n",
    "\n",
    "    Returns:\n",
    "        The number of ways in which k objects can be selected from a set of n objects\n",
    "        \n",
    "\n",
    "    Examples:\n",
    "        >>> combinatorial_number(0, 0)\n",
    "        1.0\n",
    "        >>> combinatorial_number(5, 0)\n",
    "        1.0\n",
    "        >>> combinatorial_number(5, 5)\n",
    "        1.0\n",
    "        >>> combinatorial_number(5, 2)\n",
    "        10.0\n",
    "        >>> combinatorial_number(400, 0)\n",
    "        1.0\n",
    "        >>> combinatorial_number(400, 400)\n",
    "        1.0\n",
    "        >>> combinatorial_number(400, 200)\n",
    "        1.0295250013541435e+119\n",
    "    \"\"\"\n",
    "    numerator = factorial(n)\n",
    "    denominator = factorial(k) * factorial(n-k)\n",
    "\n",
    "    ret = numerator / denominator\n",
    "    \n",
    "    return ret"
   ]
  },
  {
   "cell_type": "code",
   "execution_count": 8,
   "id": "4395a41b",
   "metadata": {},
   "outputs": [
    {
     "name": "stdout",
     "output_type": "stream",
     "text": [
      "1.0\n",
      "1.0\n",
      "1.0\n",
      "10.0\n",
      "nan\n",
      "nan\n",
      "nan\n"
     ]
    },
    {
     "name": "stderr",
     "output_type": "stream",
     "text": [
      "/usr/lib/python3/dist-packages/numpy/core/fromnumeric.py:88: RuntimeWarning: overflow encountered in reduce\n",
      "  return ufunc.reduce(obj, axis, dtype, out, **passkwargs)\n",
      "/tmp/ipykernel_253294/198637707.py:30: RuntimeWarning: invalid value encountered in scalar divide\n",
      "  ret = numerator / denominator\n"
     ]
    }
   ],
   "source": [
    "print(combinatorial_number(0, 0))\n",
    "print(combinatorial_number(5, 0))\n",
    "print(combinatorial_number(5, 5))\n",
    "print(combinatorial_number(5, 2))\n",
    "print(combinatorial_number(400, 0))\n",
    "print(combinatorial_number(400, 400))\n",
    "print(combinatorial_number(400, 200))"
   ]
  },
  {
   "cell_type": "code",
   "execution_count": 9,
   "id": "2da4dde3",
   "metadata": {},
   "outputs": [
    {
     "name": "stdout",
     "output_type": "stream",
     "text": [
      "170! = 7.257415615307994e+306\n",
      "171! = inf\n"
     ]
    }
   ],
   "source": [
    "i = 0\n",
    "while not np.isinf(factorial(i)):\n",
    "    i += 1\n",
    "\n",
    "print(f\"{i - 1}! = {factorial(i-1)}\")\n",
    "print(f\"{i}! = {factorial(i)}\")"
   ]
  },
  {
   "cell_type": "markdown",
   "id": "aa590405",
   "metadata": {},
   "source": [
    "__EXPLICACIÓN__\n",
    "\n",
    "Los últimos tres ejemplos fallan debido a *overflows* en el numerador y denominador (400! es más grande que *max_real*, incluso 200! se sale del rango). Como enseña la celda previa, 170! es el factorial más grande que nuestra función factorial() puede computar.\n",
    "\n",
    "La siguiente función se ha implementado para evitar *overflows*, y en consecuencia corregir el cálculo final de los resultados:"
   ]
  },
  {
   "cell_type": "code",
   "execution_count": 10,
   "id": "7c5c4fc2-934d-4bbf-8700-b7fd9723a837",
   "metadata": {},
   "outputs": [],
   "source": [
    "def combinatorial_number_2(n: int, k:int) -> float:\n",
    "    \"\"\" Compute the factorial of a number\n",
    "    Args:\n",
    "        n: Number of objects for selection\n",
    "        k: Number of selected objects\n",
    "\n",
    "    Returns:\n",
    "        The number of ways in which k objects can be selected from a set of n objects\n",
    "        \n",
    "\n",
    "    Examples:\n",
    "        >>> combinatorial_number_2(0, 0)\n",
    "        1.0\n",
    "        >>> combinatorial_number_2(5, 0)\n",
    "        1.0\n",
    "        >>> combinatorial_number_2(5, 5)\n",
    "        1.0\n",
    "        >>> combinatorial_number_2(5, 2)\n",
    "        10.0\n",
    "        >>> combinatorial_number_2(400, 0)\n",
    "        1.0\n",
    "        >>> combinatorial_number_2(400, 400)\n",
    "        1.0\n",
    "        >>> combinatorial_number_2(400, 200)\n",
    "        1.0295250013541435e+119\n",
    "    \"\"\"\n",
    "\n",
    "    # comb(n, k) == comb(n, n-k)\n",
    "    if (k > 0.5 * n):\n",
    "        k = n - k\n",
    "\n",
    "    numerator = np.arange(n-k+1, n + 1)\n",
    "    denominator = np.arange(1, k + 1)\n",
    "\n",
    "    return np.prod(numerator / denominator)"
   ]
  },
  {
   "cell_type": "code",
   "execution_count": 11,
   "id": "6ae7e468-6339-423e-a888-ea48a43e37e7",
   "metadata": {},
   "outputs": [
    {
     "name": "stdout",
     "output_type": "stream",
     "text": [
      "1.0\n",
      "1.0\n",
      "1.0\n",
      "10.0\n",
      "1.0\n",
      "1.0\n",
      "1.0295250013541435e+119\n"
     ]
    }
   ],
   "source": [
    "print(combinatorial_number_2(0, 0))\n",
    "print(combinatorial_number_2(5, 0))\n",
    "print(combinatorial_number_2(5, 5))\n",
    "print(combinatorial_number_2(5, 2))\n",
    "print(combinatorial_number_2(400, 0))\n",
    "print(combinatorial_number_2(400, 400))\n",
    "print(combinatorial_number_2(400, 200))"
   ]
  },
  {
   "cell_type": "markdown",
   "id": "10f41545-ecd2-48f1-ac21-4ea8f6e110a5",
   "metadata": {},
   "source": [
    "__EXPLICACIÓN__\n",
    "\n",
    "Para evitar *overflows*, aplicamos dos tretas:\n",
    "\n",
    "Primero cancelamos el factor más grande en el denominador con parte de los factores del numerador:\n",
    "\n",
    "* Si k es mayor o igual que n-k:\n",
    "$$\n",
    " \\frac{n!}{k!(n-k)!} = \\frac{n!}{k!}\\frac{1}{(n-k)!} = \\frac{\\prod_{i=k+1}^n i}{(n-k)!}\n",
    "$$\n",
    "\n",
    "* Si n-k es mayor que k:\n",
    "$$\n",
    " \\frac{n!}{k!(n-k)!} = \\frac{n!}{(n-k)!}\\frac{1}{k!} = \\frac{\\prod_{i=n-k+1}^n i}{k!}\n",
    "$$\n",
    "\n",
    "Para finalizar resolvemos el principal problema proveniente de calcular por separado el numerador y el denominador, cuyos valores sueltos son mucho más grandes que el resultado final, provocando *overflows* antes de computar el resultado final.\n",
    "\n",
    "Con el objetivo de minimizar los valores intermedios, computamos la solución de la siguiente manera:\n",
    "\n",
    "* Si k es mayor o igual que n-k:\n",
    "$$\n",
    " \\frac{\\prod_{i=k+1}^n i}{(n-k)!} = \\prod_{i=1}^{n-k} \\frac{k + i}{i}\n",
    "$$\n",
    "\n",
    "* Si n-k es mayor que k:\n",
    "$$\n",
    " \\frac{\\prod_{i=n-k+1}^n i}{k!} = \\prod_{i=1}^k \\frac{i + n - k}{i}\n",
    "$$\n",
    "\n",
    "---"
   ]
  },
  {
   "cell_type": "markdown",
   "id": "03def493",
   "metadata": {},
   "source": [
    "### Exercise 5.\n",
    "\n",
    "Consider the following series \n",
    "$$  S = \\sum_{n=1}^{\\infty} \\frac{1}{n^4} = \\frac{\\pi^4}{90}$$\n",
    "\n",
    "We will attempt to estimate its value in an approximate manner with the help of a computer.\n",
    "\n",
    "To this end, we compute the value of the truncatd series \n",
    "$$\n",
    "S\\approx S_N  = \\sum_{n=1}^N \\frac{1}{n^4},\n",
    "$$\n",
    "which provides an accurate approximation of $S$ for sufficiently large $N$\n",
    "$$\n",
    "\\lim_{N \\rightarrow \\infty} S_N  = S.\n",
    "$$\n",
    "\n",
    "The approximation errors are defined as\n",
    "$$\n",
    "error_{abs}(N) = \\left| S_N - S \\right|; \\\\ \n",
    "error_{rel}(N) = \\frac{\\left| S_N - S \\right|}{\\left| S \\right|} = \\left| \\frac{S_N}{S} - 1 \\right|.\n",
    "$$\n",
    "\n",
    "The question is what is the minimum error that can be achieved and how large does $N$ have to be to achieve is minimum. \n",
    "\n",
    "To investigate this issue, we will consider two possible implementations of the computation \n",
    "\n",
    "<u> IMPLEMENTATION 1</u>: Forward sum\n",
    "\n",
    "$$\n",
    "S_N^{\\rightarrow} = \\left(\\left(\\left(1 + \\frac{1}{2^4} \\right)\n",
    "+ \\frac{1}{3^4} \\right) + \\ldots + \\frac{1}{(N-1)^4} \\right) + \\frac{1}{N^4}.\n",
    "$$\t\n",
    "\n",
    "<u> IMPLEMENTATION 2</u>: backward sum\n",
    "$$\n",
    "S_N^{\\leftarrow} = \\left(\\left(\\left(\n",
    "\\frac{1}{N^4} +  \\frac{1}{(N-1)^4} \\right) + \\frac{1}{(N-2)^4} \\right)+⋯+ \\frac{1}{2^4} \\right) + 1.\n",
    "$$\t\n",
    "\n",
    "1. Implement functions to compute these quantities.\n",
    "2. Analyze the behavior of these quantities as a function of $N$.\n",
    "    1. Does the error decrease as $N$ becomes larger? \n",
    "    2. What is the smallest value of the error, and for which value of $N$ is it attained?\n",
    "    3. Are the smallest errors for $S_N^{\\rightarrow} =$ and $S_N^{\\leftarrow}$ equal? If not, which of the procedures is more accurate?\n",
    "    4. Make a table (for instance, using [pandas](https://pandas.pydata.org/docs/user_guide/10min.html)) and a plot (using [matplotlib](https://matplotlib.org/stable/tutorials/index.html)) of the relative value of the approximation error of $S_N^{\\rightarrow} =$ and $S_N^{\\leftarrow}$ as a function of $N$.\n",
    "3. Provide an explanation of the results obtained.\n",
    "\n",
    "<u> HINT</u>: The explanation of the results hinges on the observations made in exercise 2."
   ]
  },
  {
   "cell_type": "code",
   "execution_count": 12,
   "id": "854d4780",
   "metadata": {},
   "outputs": [
    {
     "name": "stdout",
     "output_type": "stream",
     "text": [
      "1.082323233711138\n"
     ]
    }
   ],
   "source": [
    "# Exact sum \n",
    "S_exact = np.pi**4 / 90.0\n",
    "print(S_exact)"
   ]
  },
  {
   "cell_type": "code",
   "execution_count": 13,
   "id": "c6b5de41",
   "metadata": {},
   "outputs": [
    {
     "name": "stdout",
     "output_type": "stream",
     "text": [
      "[1.         0.0625     0.01234568 0.00390625 0.0016    ]\n"
     ]
    }
   ],
   "source": [
    "# Series term\n",
    "def inverse_power(n, p):\n",
    "    return 1.0 / np.double(n)**p \n",
    "\n",
    "# Example (vectorized)\n",
    "N = 5\n",
    "n = np.arange(1, N+1)\n",
    "print(inverse_power(n, p=4))"
   ]
  },
  {
   "cell_type": "code",
   "execution_count": 14,
   "id": "c1581253",
   "metadata": {},
   "outputs": [
    {
     "name": "stdout",
     "output_type": "stream",
     "text": [
      "1.082323233711138\n",
      "1.082323233378306\n"
     ]
    }
   ],
   "source": [
    "# Forward sum\n",
    "\n",
    "def forward_sum(series_term, N):\n",
    "    n_terms = series_term(np.arange(1, N+1))\n",
    "    result = n_terms[0]\n",
    "    for each in n_terms[1:]:\n",
    "        result += each\n",
    "    return result\n",
    "    \n",
    "\n",
    "# Example of use\n",
    "\n",
    "print(S_exact)\n",
    "\n",
    "N = 1000\n",
    "series_term = lambda n: inverse_power(n, p=4) \n",
    "\n",
    "S_N_forward = forward_sum(series_term, N)\n",
    "print(S_N_forward)"
   ]
  },
  {
   "cell_type": "code",
   "execution_count": 15,
   "id": "9f43f965",
   "metadata": {},
   "outputs": [
    {
     "name": "stdout",
     "output_type": "stream",
     "text": [
      "1.082323233711138\n",
      "1.0823232333783046\n"
     ]
    }
   ],
   "source": [
    "# Backward sum\n",
    "\n",
    "def backward_sum(series_term, N):\n",
    "    n_terms = series_term(np.arange(N, 0, -1))\n",
    "    result = n_terms[0]\n",
    "    for i in n_terms[1:]:\n",
    "        result += i\n",
    "    return result\n",
    "\n",
    "# Example of use\n",
    "\n",
    "print(S_exact)\n",
    "\n",
    "N = 1000\n",
    "series_term = lambda n: inverse_power(n, p=4) \n",
    "\n",
    "S_N_backward = backward_sum(series_term, N)\n",
    "print(S_N_backward)"
   ]
  },
  {
   "cell_type": "code",
   "execution_count": 16,
   "id": "46cc7e67",
   "metadata": {},
   "outputs": [
    {
     "data": {
      "text/html": [
       "<div>\n",
       "<style scoped>\n",
       "    .dataframe tbody tr th:only-of-type {\n",
       "        vertical-align: middle;\n",
       "    }\n",
       "\n",
       "    .dataframe tbody tr th {\n",
       "        vertical-align: top;\n",
       "    }\n",
       "\n",
       "    .dataframe thead th {\n",
       "        text-align: right;\n",
       "    }\n",
       "</style>\n",
       "<table border=\"1\" class=\"dataframe\">\n",
       "  <thead>\n",
       "    <tr style=\"text-align: right;\">\n",
       "      <th></th>\n",
       "      <th>N</th>\n",
       "      <th>forward_sum_approximation</th>\n",
       "      <th>backward_sum_approximation</th>\n",
       "      <th>Err_abs_forward</th>\n",
       "      <th>Err_abs_backward</th>\n",
       "      <th>Err_rel_forward</th>\n",
       "      <th>Err_rel_backward</th>\n",
       "    </tr>\n",
       "  </thead>\n",
       "  <tbody>\n",
       "    <tr>\n",
       "      <th>0</th>\n",
       "      <td>1000</td>\n",
       "      <td>1.082323</td>\n",
       "      <td>1.082323</td>\n",
       "      <td>3.328320e-10</td>\n",
       "      <td>3.328333e-10</td>\n",
       "      <td>3.075163e-10</td>\n",
       "      <td>3.075175e-10</td>\n",
       "    </tr>\n",
       "    <tr>\n",
       "      <th>1</th>\n",
       "      <td>2000</td>\n",
       "      <td>1.082323</td>\n",
       "      <td>1.082323</td>\n",
       "      <td>4.163336e-11</td>\n",
       "      <td>4.163514e-11</td>\n",
       "      <td>3.846666e-11</td>\n",
       "      <td>3.846830e-11</td>\n",
       "    </tr>\n",
       "    <tr>\n",
       "      <th>2</th>\n",
       "      <td>3000</td>\n",
       "      <td>1.082323</td>\n",
       "      <td>1.082323</td>\n",
       "      <td>1.233680e-11</td>\n",
       "      <td>1.233924e-11</td>\n",
       "      <td>1.139844e-11</td>\n",
       "      <td>1.140070e-11</td>\n",
       "    </tr>\n",
       "    <tr>\n",
       "      <th>3</th>\n",
       "      <td>4000</td>\n",
       "      <td>1.082323</td>\n",
       "      <td>1.082323</td>\n",
       "      <td>5.202727e-12</td>\n",
       "      <td>5.206058e-12</td>\n",
       "      <td>4.806999e-12</td>\n",
       "      <td>4.810077e-12</td>\n",
       "    </tr>\n",
       "    <tr>\n",
       "      <th>4</th>\n",
       "      <td>5000</td>\n",
       "      <td>1.082323</td>\n",
       "      <td>1.082323</td>\n",
       "      <td>2.663647e-12</td>\n",
       "      <td>2.665645e-12</td>\n",
       "      <td>2.461046e-12</td>\n",
       "      <td>2.462892e-12</td>\n",
       "    </tr>\n",
       "    <tr>\n",
       "      <th>...</th>\n",
       "      <td>...</td>\n",
       "      <td>...</td>\n",
       "      <td>...</td>\n",
       "      <td>...</td>\n",
       "      <td>...</td>\n",
       "      <td>...</td>\n",
       "      <td>...</td>\n",
       "    </tr>\n",
       "    <tr>\n",
       "      <th>95</th>\n",
       "      <td>96000</td>\n",
       "      <td>1.082323</td>\n",
       "      <td>1.082323</td>\n",
       "      <td>2.768896e-13</td>\n",
       "      <td>2.220446e-16</td>\n",
       "      <td>2.558290e-13</td>\n",
       "      <td>2.051555e-16</td>\n",
       "    </tr>\n",
       "    <tr>\n",
       "      <th>96</th>\n",
       "      <td>97000</td>\n",
       "      <td>1.082323</td>\n",
       "      <td>1.082323</td>\n",
       "      <td>2.768896e-13</td>\n",
       "      <td>0.000000e+00</td>\n",
       "      <td>2.558290e-13</td>\n",
       "      <td>0.000000e+00</td>\n",
       "    </tr>\n",
       "    <tr>\n",
       "      <th>97</th>\n",
       "      <td>98000</td>\n",
       "      <td>1.082323</td>\n",
       "      <td>1.082323</td>\n",
       "      <td>2.768896e-13</td>\n",
       "      <td>0.000000e+00</td>\n",
       "      <td>2.558290e-13</td>\n",
       "      <td>0.000000e+00</td>\n",
       "    </tr>\n",
       "    <tr>\n",
       "      <th>98</th>\n",
       "      <td>99000</td>\n",
       "      <td>1.082323</td>\n",
       "      <td>1.082323</td>\n",
       "      <td>2.768896e-13</td>\n",
       "      <td>0.000000e+00</td>\n",
       "      <td>2.558290e-13</td>\n",
       "      <td>0.000000e+00</td>\n",
       "    </tr>\n",
       "    <tr>\n",
       "      <th>99</th>\n",
       "      <td>100000</td>\n",
       "      <td>1.082323</td>\n",
       "      <td>1.082323</td>\n",
       "      <td>2.768896e-13</td>\n",
       "      <td>0.000000e+00</td>\n",
       "      <td>2.558290e-13</td>\n",
       "      <td>0.000000e+00</td>\n",
       "    </tr>\n",
       "  </tbody>\n",
       "</table>\n",
       "<p>100 rows × 7 columns</p>\n",
       "</div>"
      ],
      "text/plain": [
       "         N  forward_sum_approximation  backward_sum_approximation  \\\n",
       "0     1000                   1.082323                    1.082323   \n",
       "1     2000                   1.082323                    1.082323   \n",
       "2     3000                   1.082323                    1.082323   \n",
       "3     4000                   1.082323                    1.082323   \n",
       "4     5000                   1.082323                    1.082323   \n",
       "..     ...                        ...                         ...   \n",
       "95   96000                   1.082323                    1.082323   \n",
       "96   97000                   1.082323                    1.082323   \n",
       "97   98000                   1.082323                    1.082323   \n",
       "98   99000                   1.082323                    1.082323   \n",
       "99  100000                   1.082323                    1.082323   \n",
       "\n",
       "    Err_abs_forward  Err_abs_backward  Err_rel_forward  Err_rel_backward  \n",
       "0      3.328320e-10      3.328333e-10     3.075163e-10      3.075175e-10  \n",
       "1      4.163336e-11      4.163514e-11     3.846666e-11      3.846830e-11  \n",
       "2      1.233680e-11      1.233924e-11     1.139844e-11      1.140070e-11  \n",
       "3      5.202727e-12      5.206058e-12     4.806999e-12      4.810077e-12  \n",
       "4      2.663647e-12      2.665645e-12     2.461046e-12      2.462892e-12  \n",
       "..              ...               ...              ...               ...  \n",
       "95     2.768896e-13      2.220446e-16     2.558290e-13      2.051555e-16  \n",
       "96     2.768896e-13      0.000000e+00     2.558290e-13      0.000000e+00  \n",
       "97     2.768896e-13      0.000000e+00     2.558290e-13      0.000000e+00  \n",
       "98     2.768896e-13      0.000000e+00     2.558290e-13      0.000000e+00  \n",
       "99     2.768896e-13      0.000000e+00     2.558290e-13      0.000000e+00  \n",
       "\n",
       "[100 rows x 7 columns]"
      ]
     },
     "metadata": {},
     "output_type": "display_data"
    },
    {
     "data": {
      "image/png": "[encoded data removed]",
      "text/plain": [
       "<Figure size 640x480 with 1 Axes>"
      ]
     },
     "metadata": {},
     "output_type": "display_data"
    },
    {
     "data": {
      "image/png": "[encoded data removed]",
      "text/plain": [
       "<Figure size 640x480 with 1 Axes>"
      ]
     },
     "metadata": {},
     "output_type": "display_data"
    },
    {
     "data": {
      "image/png": "[encoded data removed]",
      "text/plain": [
       "<Figure size 640x480 with 1 Axes>"
      ]
     },
     "metadata": {},
     "output_type": "display_data"
    }
   ],
   "source": [
    "N_values = np.arange(1000, 100001, 1000)\n",
    "forward_results = []\n",
    "backward_results = []\n",
    "\n",
    "for n in N_values:\n",
    "    forward_results.append(forward_sum(series_term, n))\n",
    "    backward_results.append(backward_sum(series_term, n))\n",
    "\n",
    "\n",
    "forward_results = np.array(forward_results)\n",
    "backward_results = np.array(backward_results)\n",
    "\n",
    "# Calculo de errores\n",
    "err_abs_forward = np.abs((S_exact-forward_results))\n",
    "err_rel_forward = err_abs_forward/S_exact\n",
    "\n",
    "err_abs_backward = np.abs((S_exact-backward_results))\n",
    "err_rel_backward = err_abs_backward/S_exact\n",
    "\n",
    "# Tabla pandas dataframe\n",
    "df = pd.DataFrame(data={'N': N_values,\n",
    "                        'forward_sum_approximation': forward_results,\n",
    "                        'backward_sum_approximation': backward_results,\n",
    "                        'Err_abs_forward': err_abs_forward,\n",
    "                        'Err_abs_backward': err_abs_backward,\n",
    "                        'Err_rel_forward': err_rel_forward,\n",
    "                        'Err_rel_backward': err_rel_backward})\n",
    "\n",
    "display(df)\n",
    "\n",
    "# Gráficas \n",
    "plt.title(\"Gráfica 1\")\n",
    "plt.xlabel(\"N\")\n",
    "plt.ylabel(\"Error relativo\")\n",
    "plt.plot(N_values, err_rel_forward, label='Suma hacia delante')\n",
    "plt.plot(N_values, err_rel_backward, label='Suma hacia atrás')\n",
    "plt.legend()\n",
    "plt.show()\n",
    "\n",
    "plt.clf()\n",
    "\n",
    "plt.title(\"Gráfica 2\")\n",
    "plt.xlabel(\"N\")\n",
    "plt.ylabel(\"Error relativo\")\n",
    "plt.plot(N_values[5:], err_rel_forward[5:], label='Suma hacia delante')\n",
    "plt.plot(N_values[5:], err_rel_backward[5:], label='Suma hacia atrás')\n",
    "plt.legend()\n",
    "plt.show()\n",
    "\n",
    "plt.clf()\n",
    "\n",
    "plt.title(\"Gráfica 3: Error relativo de la suma hacia atrás\")\n",
    "plt.xlabel(\"N\")\n",
    "plt.ylabel(\"Error relativo\")\n",
    "plt.plot(N_values[-50:], err_rel_backward[-50:], marker=\".\")\n",
    "plt.show()"
   ]
  },
  {
   "cell_type": "markdown",
   "id": "0f98b646",
   "metadata": {},
   "source": [
    "__EXPLICACIÓN__\n",
    "\n",
    "En ambas implementaciones, al aumentar N decrecen tanto el error absoluto como el relativo, pero sólo hasta cierto punto a partir del cual el ordenador no puede recoger más decimales.\n",
    "\n",
    "En el caso de la implementación de la suma hacia delante, los errores absoluto y relativo más pequeños obtenidos son 2.768896e-13 y 2.55829e-13, respectivamente. El primer valor de $N$ que consigue estos resultados es 9741, todos los valores que lo suceden tienen la característica de ser lo suficientemente pequeños para que la variable que acumula el resultado no los pueda recoger. Esto se debe a que el punto de partida es el número 1, de tal manera que el último bit de la mantissa corresponde con el valor 2^-53, haciendo que todos los valores menores que este se pierdan. Según los siguientes cálculos se puede justificar que los valores de $N$ a partir de 9742 no suponen ninguna mejora.\n",
    "$$\n",
    "\\frac{1}{N^4}< 2^{-53} ; N > 2^{13}\\sqrt[4]{2} = 9741.98\n",
    "$$\n",
    "\n",
    "Por el contrario, con la implementación de la suma hacia atrás se consigue una aproximación que el ordenador considera perfecta; tanto el error absoluto como el error relativo llegan a ser cero, siendo 96519 el primer valor de $N$ que alcanza este resultado. Esta versión de la aproximación consigue mejores resultados que la anterior porque comienza con números pequeños, que al ir sumándose a otros no tan grandes, termina por alcanzar el resultado final sin haber perdido una gran cantidad de valores decimales durante el proceso.\n",
    "\n",
    "La gráfica 1 da a entender que ambas implementaciones consiguen los mismos resultados; sin embargo, este no es el caso, tal y como se muestra en la tabla. En la gráfica 2 se ha ignorado los primeros datos para realizar una gráfica más representativa. En esta se puede ver cómo la implementación de suma hacia atrás deja de disminuir el error, mientras que la otra implementación continúa mejorando los resultados. En la gráfica 3 se puede observar cómo se comporta esta última implementación.\n",
    "\n",
    "---"
   ]
  },
  {
   "cell_type": "markdown",
   "id": "786dc9ec",
   "metadata": {},
   "source": [
    "### Exercise 6.\n",
    "\n",
    "Consider the following code:"
   ]
  },
  {
   "cell_type": "code",
   "execution_count": 17,
   "id": "03b351be",
   "metadata": {},
   "outputs": [
    {
     "name": "stdout",
     "output_type": "stream",
     "text": [
      "(0.9544997361036416, 1.8403548653972358e-11)\n"
     ]
    }
   ],
   "source": [
    "from scipy.integrate import quad\n",
    "from scipy.stats import norm\n",
    "\n",
    "\n",
    "mu = 1.35\n",
    "sigma = 0.25\n",
    "f  = lambda x: norm.pdf(x,mu,sigma); \n",
    "\n",
    "def mystery_function(alpha):\n",
    "    x_inf = mu-alpha*sigma;\n",
    "    x_sup = mu+alpha*sigma;\n",
    "    return quad(f, x_inf, x_sup, epsabs=1.0e-10, epsrel=1.0e-10)\n",
    "\n",
    "alpha = 2.0\n",
    "print(mystery_function(alpha))"
   ]
  },
  {
   "cell_type": "markdown",
   "id": "4a74c961",
   "metadata": {},
   "source": [
    "1. Explain what is being computed with this piece of code.\n",
    "2. Does the value that is beign computed change with the values of $\\mu$ and $\\sigma$? \n",
    "3. Provide a mathematical derivation (use [latex within a markdown cell](https://towardsdatascience.com/write-markdown-latex-in-the-jupyter-notebook-10985edb91fd)) to explain what is observed.\n",
    "4. Use the above derivation to compute the value of the integral for $\\alpha = \\infty$.\n",
    "5. What is the smallest value of $\\alpha$ that is needed to achieve a result numerically equivalent to the one obtained with $\\alpha = \\infty$ ?\n",
    "\n",
    "<u>HINTS</u>: \n",
    "* Look for information on `quad`,`norm`. \n",
    "* You may need to modify the values of `epsabs` and / or `epsrel` to answer the last question."
   ]
  },
  {
   "cell_type": "code",
   "execution_count": 18,
   "id": "3b75ddf1",
   "metadata": {},
   "outputs": [
    {
     "name": "stdout",
     "output_type": "stream",
     "text": [
      "Solución con np.inf\n",
      " Alfa: inf\n",
      " Probabilidad: 1.0000000000000349\n",
      " Error absoluto:6.353878763887597e-11\n",
      "\n",
      "Aproximación variando alpha\n",
      " Alfa: 8.299999999999986\n",
      " Probabilidad: 1.0000000000000002\n",
      " Error absoluto:1.7936950000654612e-11\n"
     ]
    }
   ],
   "source": [
    "alpha = np.inf\n",
    "prob_inf, err_inf = mystery_function(alpha)\n",
    "minus_err_inf = prob_inf-err_inf\n",
    "print('Solución con np.inf')\n",
    "print(f' Alfa: {alpha}\\n Probabilidad: {prob_inf}\\n Error absoluto:{err_inf}')\n",
    "\n",
    "alpha = 2.0\n",
    "prob = 0.0\n",
    "while not prob >= 1.0:\n",
    "    alpha += 0.1\n",
    "    prob, err = mystery_function(alpha)\n",
    "\n",
    "print('\\nAproximación variando alpha')\n",
    "print(f' Alfa: {alpha}\\n Probabilidad: {prob}\\n Error absoluto:{err}')\n"
   ]
  },
  {
   "cell_type": "markdown",
   "id": "a5cd2095",
   "metadata": {},
   "source": [
    "__EXPLICACIÓN__\n",
    "\n",
    "La función `f` representa una función densidad de probabilidad, en concreto, la distribución normal donde la variable `mu` es la media y `sigma` la desviación típica. La función implementada se encarga de calcular la probabilidad de que una variable aleatoria, que siga dicha función densidad, se encuentre entre los valores `x_inf` y `x_sup`, y para ello se realiza la integral definida mostrada a continuación. La variable `alpha` es proporcional al ancho de este márgen de valores. \n",
    "\n",
    "$$\n",
    "P(\\mu-\\alpha\\sigma \\leq X \\leq \\mu+\\alpha\\sigma) =  \\int_{\\mu-\\alpha\\sigma}^{\\mu+\\alpha\\sigma} \\frac{1}{\\sigma\\sqrt{2\\pi}}e^{-\\frac{(x-\\mu)^2}{2\\sigma^2}} dx\n",
    "$$\n",
    "\n",
    "El valor calculado por la función `mystery_function` no varía al cambiar la media o la desviación típica, esto se debe a que los límites inferior y superior de la integral varían de la misma manera que la función distribución de probabilidad.\n",
    "\n",
    "Haciendo que alpha tome el valor de infinito con `np.inf` se consigue una probabilidad junto con un error absoluto en el que se incluye el valor 1, el valor esperado. El valor de alpha más pequeño que se aproxima al resultado anterior es 8.3.\n",
    "\n",
    "---"
   ]
  },
  {
   "cell_type": "markdown",
   "id": "0422a8c3",
   "metadata": {},
   "source": [
    "### Exercise 7.\n",
    "Execute the following code several times."
   ]
  },
  {
   "cell_type": "code",
   "execution_count": 19,
   "id": "5ce4d4f6",
   "metadata": {
    "scrolled": true
   },
   "outputs": [
    {
     "name": "stdout",
     "output_type": "stream",
     "text": [
      "[[0 1 2 3]\n",
      " [1 0 1 2]\n",
      " [2 1 0 1]\n",
      " [3 2 1 0]]\n",
      "-7.6944572713360815\n",
      "-1143.5909149824706\n",
      "11.771264634617067\n",
      "7.176444054835733\n",
      "5.94041083941806\n",
      "5.486115438810757\n",
      "5.3009841559927775\n",
      "5.222403590404982\n",
      "5.188474624037096\n",
      "5.173717078793103\n",
      "5.167277738843281\n",
      "5.164464077525579\n",
      "5.163233905727064\n",
      "5.162695914875226\n",
      "5.162460608127234\n",
      "5.16235768430608\n",
      "5.162312664143768\n",
      "5.162292971572496\n",
      "5.162284357676197\n",
      "5.162280589791031\n",
      "5.162278941643703\n",
      "5.162278220711281\n",
      "5.162277905361052\n",
      "5.1622777674205595\n",
      "5.1622777070826285\n",
      "5.162277680689611\n",
      "5.162277669144777\n",
      "5.162277664094836\n",
      "5.16227766188589\n",
      "5.162277660919652\n",
      "5.162277660497001\n",
      "5.162277660312125\n",
      "5.162277660231256\n",
      "5.162277660195883\n",
      "5.1622776601804095\n",
      "5.162277660173642\n",
      "5.162277660170682\n",
      "5.162277660169387\n",
      "5.16227766016882\n",
      "5.162277660168573\n",
      "5.162277660168464\n",
      "5.1622776601684155\n",
      "5.162277660168395\n",
      "5.162277660168386\n",
      "5.162277660168382\n",
      "5.162277660168382\n",
      "5.16227766016838\n",
      "5.16227766016838\n",
      "5.162277660168379\n",
      "5.162277660168379\n"
     ]
    }
   ],
   "source": [
    "N = 4;\n",
    "i = range(1, N+1)\n",
    "i, j = np.meshgrid(i, i);\n",
    "A = np.abs(i-j)\n",
    "print(A)\n",
    "v0 = np.random.randn(N)\n",
    "MAX_ITER  = 50;\n",
    "for i in range(MAX_ITER):\n",
    "    v1 = A @ v0;\n",
    "    squared_norm = np.dot(v1, v1)\n",
    "    lamb =  squared_norm / np.dot(v0, v1)\n",
    "    print(lamb)\n",
    "    v0 = v1 / np.sqrt(squared_norm)"
   ]
  },
  {
   "cell_type": "markdown",
   "id": "3b8c50b8",
   "metadata": {},
   "source": [
    "Provide an explanation of what the code does and of the results observed.\n",
    "\n",
    "<u> HINT </u>:\n",
    "Investigate the functionality of the numpy function `numpy.linalg.eig`."
   ]
  },
  {
   "cell_type": "markdown",
   "id": "02479170",
   "metadata": {},
   "source": [
    "__EXPLICACIÓN__\n",
    "\n",
    "El código de este ejercicio calcula uno de los autovalores de la matriz $A$. Para ello se parte de un vector aleatorio $v0$ que es multiplicado por la matriz $A$ multiples veces. Con cada multiplicación ($A v0$) el vector resultante ($v1$) se acerca más y más a la dirección de uno de los autovectores de dicha matriz. Tras cada multiplicación se normaliza el vector para que tenga módulo uno, así evitando tratar con vectores muy grandes. En cada iteración del bucle se aproxima también un autovalor de la matriz $A$, realizando la división entre el producto escalar de $v1$ con sí mismo entre el producto escalar de $v0$ y $v1$, o lo que es lo mismo, calcular la proporción en la que ha crecido (o disminuido) el vector, es decir, el autovalor $\\lambda$ relacionado con el autovector $v1$.\n",
    "\n",
    "---"
   ]
  },
  {
   "cell_type": "markdown",
   "id": "13e3a458",
   "metadata": {},
   "source": [
    "### Exercise 8.\n",
    "\n",
    "1. Explain how can the eigenvectors and eigenvalues of a square matrix be used to compute its exponential.\n",
    "2. Making use of the function `numpy.linalg.eig` compute the results of exponentiating Toeplitz' matrix\n",
    "$$\n",
    "A = \\left(\n",
    "\\begin{array}{cccc}\n",
    "0 & 1 & 2 & 3 \\\\\n",
    "1 & 0 & 1 & 2 \\\\\n",
    "2 & 1 & 0 & 1 \\\\\n",
    "3 & 2 & 1 & 0 \n",
    "\\end{array} \n",
    "\\right).\n",
    "$$\n",
    "3. Compare the results with those obtained with the scipy function `scipy.linalg.expm`"
   ]
  },
  {
   "cell_type": "code",
   "execution_count": 20,
   "id": "ff188438",
   "metadata": {},
   "outputs": [
    {
     "name": "stdout",
     "output_type": "stream",
     "text": [
      "Matriz resultante:\n",
      "[[57.54897396 41.23414727 41.41932638 57.43936799]\n",
      " [41.23414727 30.18299519 29.70303099 41.41932638]\n",
      " [41.41932638 29.70303099 30.18299519 41.23414727]\n",
      " [57.43936799 41.41932638 41.23414727 57.54897396]]\n",
      "Error absoluto\n",
      "[[2.34479103e-13 1.63424829e-13 1.77635684e-13 2.34479103e-13]\n",
      " [1.20792265e-13 9.94759830e-14 9.94759830e-14 1.49213975e-13]\n",
      " [1.06581410e-13 8.52651283e-14 8.88178420e-14 1.13686838e-13]\n",
      " [1.91846539e-13 1.49213975e-13 1.42108547e-13 2.06057393e-13]]\n",
      "Error relativo\n",
      "[[4.07442716e-15 3.96333719e-15 4.28871494e-15 4.08220200e-15]\n",
      " [2.92942314e-15 3.29576248e-15 3.34901792e-15 3.60252055e-15]\n",
      " [2.57322897e-15 2.87058679e-15 2.94264507e-15 2.75710413e-15]\n",
      " [3.33998345e-15 3.60252055e-15 3.44638016e-15 3.58055721e-15]]\n"
     ]
    }
   ],
   "source": [
    "a = [[0, 1, 2, 3],\n",
    "     [1, 0, 1, 2],\n",
    "     [2, 1, 0, 1],\n",
    "     [3, 2, 1, 0]]\n",
    "\n",
    "# Compute the matrix eigenvalues and eigenvectors\n",
    "eigenvalues, s_matrix = np.linalg.eig(a)\n",
    "\n",
    "# Since 'a' is a matrix of 4x4 and it has 4 distinct eigenvalues\n",
    "# 'a' it is diagonizable and its exponential can be computed fairly easy\n",
    "s_inverse = np.linalg.inv(s_matrix)\n",
    "\n",
    "diag_exp = np.diag(np.exp(eigenvalues))\n",
    "\n",
    "a_exp = s_matrix @ diag_exp @ s_inverse\n",
    "scipy_result = sp.linalg.expm(a)\n",
    "\n",
    "print(f'Matriz resultante:\\n{a_exp}')\n",
    "print('Error absoluto')\n",
    "print(np.abs(scipy_result - a_exp))\n",
    "print('Error relativo')\n",
    "print(np.abs((scipy_result - a_exp) / scipy_result))"
   ]
  },
  {
   "cell_type": "markdown",
   "id": "8e132b5c",
   "metadata": {},
   "source": [
    "__EXPLICACIÓN__\n",
    "\n",
    "1. Cálculo de la exponencial de la matriz A.\n",
    "\n",
    "    El cálculo de la exponencial de una matriz cuadrada es relativamente sencillo mediante el uso de autovalores y autovectores en el caso de que dicha matriz sea diagonalizable.\n",
    "\n",
    "    Por suerte para nosotros la matriz de Toeplitz es diagonalizable. Esto se confirma puesto que es una matriz de 4x4 y tiene 4 autovectores distintos.\n",
    "\n",
    "    1. Calculamos la matriz S cuyas columnas son los autovecores (v1, v2, v3 y v4) de A: \n",
    "\n",
    "    $$\n",
    "    S = \\left(\n",
    "    \\begin{array}{cccc}\n",
    "    v1 & v2 & v3 & v4 \n",
    "    \\end{array} \n",
    "    \\right).\n",
    "    $$\n",
    "\n",
    "    2. Mediante S, su inversa y los autovalores (lambda1, lambda2, lambda3 y lambda4), se puede calcular el exponencial de A de la siguiente manera:\n",
    "\n",
    "    $$\n",
    "    e^A = S \\left(\n",
    "    \\begin{array}{cccc}\n",
    "    e^{\\lambda_{1}} & 0 & 0 & 0 \\\\\n",
    "    0 & e^{\\lambda_{2}} & 0 & 0 \\\\\n",
    "    0 & 0 & e^{\\lambda_{3}} & 0 \\\\\n",
    "    0 & 0 & 0 & e^{\\lambda_{4}} \n",
    "    \\end{array} \n",
    "    \\right) S^{-1}\n",
    "    $$\n",
    "\n",
    "\n",
    "2. Comparación de resultados.\n",
    "\n",
    "    Siguiendo el algoritmo descrito en el apartado anterior y sp.linalg.expm() se obtiene resultados bastante similares."
   ]
  }
 ],
 "metadata": {
  "kernelspec": {
   "display_name": "Python 3 (ipykernel)",
   "language": "python",
   "name": "python3"
  },
  "language_info": {
   "codemirror_mode": {
    "name": "ipython",
    "version": 3
   },
   "file_extension": ".py",
   "mimetype": "text/x-python",
   "name": "python",
   "nbconvert_exporter": "python",
   "pygments_lexer": "ipython3",
   "version": "3.12.3"
  }
 },
 "nbformat": 4,
 "nbformat_minor": 5
}
