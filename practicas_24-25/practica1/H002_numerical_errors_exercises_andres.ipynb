{
 "cells": [
  {
   "cell_type": "markdown",
   "id": "caa3914d",
   "metadata": {},
   "source": [
    "# H002: Numerical errors"
   ]
  },
  {
   "cell_type": "markdown",
   "id": "6e0cf0ad",
   "metadata": {},
   "source": [
    "Student 1: David Álvarez Saez\n",
    "\n",
    "Student 2: Andrés Teruel Fernández"
   ]
  },
  {
   "cell_type": "code",
   "execution_count": 1,
   "id": "ce0e8157",
   "metadata": {},
   "outputs": [],
   "source": [
    "import sys\n",
    "import math\n",
    "import scipy as sp\n",
    "import numpy as np\n",
    "import pandas as pd\n",
    "import matplotlib.pyplot as plt"
   ]
  },
  {
   "cell_type": "markdown",
   "id": "bdc7c312",
   "metadata": {},
   "source": [
    "### Exercise 1.\n",
    "\n",
    "The precision and magnitude of the numbers that can be represented and manipulated in a computer depend on the environment in which the operations are performed. For real numbers, **double precision** is commonly used.\n",
    "\n",
    "1. The goal of this exercise is to determine, using a systematic search procedure, the largest and the smallest positive (different from zero) values that can be represented in the following environments:\n",
    "    1. Excel (without using *Visual Basic*).\n",
    "    2. Python.\n",
    "    \n",
    "2. Provide an explanation of the results obtained.\n",
    "\n",
    "<u>HINTS</u>: \n",
    "1. Use a *while* loop\n",
    "2. Try to understand the information provided by `print(sys.float_info)`."
   ]
  },
  {
   "cell_type": "code",
   "execution_count": 2,
   "id": "a81617de-1ce0-477a-85ee-7d75cbb331ca",
   "metadata": {},
   "outputs": [
    {
     "name": "stdout",
     "output_type": "stream",
     "text": [
      "sys.float_info(max=1.7976931348623157e+308, max_exp=1024, max_10_exp=308, min=2.2250738585072014e-308, min_exp=-1021, min_10_exp=-307, dig=15, mant_dig=53, epsilon=2.220446049250313e-16, radix=2, rounds=1)\n"
     ]
    }
   ],
   "source": [
    "import sys\n",
    "print(sys.float_info)"
   ]
  },
  {
   "cell_type": "code",
   "execution_count": 3,
   "id": "cedcbb7e-13e5-4549-b247-c4976ea29008",
   "metadata": {},
   "outputs": [
    {
     "name": "stdout",
     "output_type": "stream",
     "text": [
      "sys.float_info.max=1.7976931348623157e+308\n",
      "max_real=1.7976931348623157e+308\n"
     ]
    }
   ],
   "source": [
    "# Compute the largest positive double precision value.\n",
    "exp = 0\n",
    "aux = 1.0\n",
    "\n",
    "# Find the largest power of 10 that can be represented\n",
    "while not np.isinf(aux):\n",
    "    exp = exp + 1\n",
    "    aux = aux * 10.0\n",
    "\n",
    "# exp is 308 which is equal to sys.float_info.max_10.exp\n",
    "exp = exp - 1\n",
    "max_real = 0.0;\n",
    "\n",
    "# Go digit by digit from 10**exp until 10**0 looking for the biggest integer which does not overflow\n",
    "for i in range(exp, -1, -1):\n",
    "    aux = max_real\n",
    "    \n",
    "    while not np.isinf(aux):\n",
    "        max_real = aux\n",
    "        aux = aux + (10.0**i)\n",
    "        \n",
    "        if max_real == aux:\n",
    "            aux = np.inf\n",
    "\n",
    "# The answer is returned in the variable max_real.\n",
    "print(f\"sys.float_info.max={sys.float_info.max}\")\n",
    "print(f\"max_real={max_real}\")"
   ]
  },
  {
   "cell_type": "code",
   "execution_count": 4,
   "id": "c5781e39",
   "metadata": {},
   "outputs": [
    {
     "name": "stdout",
     "output_type": "stream",
     "text": [
      "sys.float_info.min=2.2250738585072014e-308\n",
      "math.ulp(0.0)=5e-324\n",
      "min_real=5e-324\n"
     ]
    }
   ],
   "source": [
    "# Compute the smallest positive double precision value. \n",
    "exp = 0\n",
    "aux = 1.0\n",
    "\n",
    "# Find the smallest power of 10 that can be represented\n",
    "while aux != 0:\n",
    "    exp = exp - 1\n",
    "    aux = 10.0**exp\n",
    "    \n",
    "# exp is -323\n",
    "exp = exp + 1\n",
    "min_real = 10.0**(exp)\n",
    "\n",
    "# 10**-324 underflows, but can we find a number i > 1 which makes i*10**-324 to not underflow?\n",
    "for i in range (9, 0, -1):\n",
    "    aux = (i*10**-1)*(10.0**exp)\n",
    "    if aux != 0:\n",
    "        min_real = aux\n",
    "\n",
    "# The answer is stored in the variable min_real.\n",
    "print(f\"sys.float_info.min={sys.float_info.min}\")\n",
    "print(f\"math.ulp(0.0)={math.ulp(0.0)}\")\n",
    "print(f\"min_real={min_real}\")"
   ]
  },
  {
   "cell_type": "markdown",
   "id": "0a2f1ac1",
   "metadata": {},
   "source": [
    "#### Explicación\n",
    "\n",
    "- Para encontrar el positivo de doble precisión más grande que se pueda representar en Python, primero encontramos la potencia de 10 más grande que no haga *overflow* (en este caso es 10**308, como nos confirma *sys.float_info.max_10.exp*). Para finalizar iteramos por todos los 309 dígitos, de más a menos significativos, encontrando para cada dígito el mayor valor entre 0 y 9 que no haga *overflow*.\n",
    "\n",
    "    En teoría podemos buscar solo entre el dígito 309 hasta el 292 ya que la mantisa está limitada a 16 dígitos en base 10 (pese a que *sys.float_info.dig* indica que son 15 los que se pueden representar fielmente, 16 es el máximo). Pese a este detalle, se iteran los 309 dígitos puesto que no supone una carga computacional alta.\n",
    "\n",
    "    Cuando comparamos nuestro resultado con *sys.float_info.max_10.max* vemos que obtenemos el mismo valor.\n",
    "\n",
    "- Para encontrar el positivo de doble precisión más pequeño que se pueda representar en Python, encontraremos la potencia de 10 más pequeña que no haga *underflow*. Después buscamos si hay algún valor mayor a 1 en la siguiente potencia más pequeña de 10 que no haga *underflow*.\n",
    "\n",
    "    En este ejercicio encontramos un valor inesperado, ya que según *sys.float_info.min* el número positivo en coma flotante normalizado más pequeño es 2.2250738585072014e-308, pero nuestro resultado es min_real=5e-324 que claramente es más pequeño.\n",
    "\n",
    "    Tras investigar un poco, encontramos que el número positivo en coma flotante no-normalizado más pequeño posible es math.ulp(0.0)=5e-324, confirmando nuestro resultado.\n",
    "\n",
    "---"
   ]
  },
  {
   "cell_type": "markdown",
   "id": "0792315c",
   "metadata": {},
   "source": [
    "### Exercise 2.\n",
    "\n",
    "Due to rounding errors, in double precision there is a quantity **sys.float_info.epsilon** such that \n",
    "\n",
    "```\n",
    "(1.0 + sys.float_info.epsilon) == 1.0\n",
    "# False (the values compared are different)\n",
    " \n",
    "(1.0 + sys.float_info.epsilon/2.0) == 1.0\n",
    "# True (the values compared are equal)\n",
    "```\n",
    "1. Determine the largest values of *small-values* such that\n",
    "\n",
    "```\n",
    "(1.0 + small_values[0]) == 1.0\n",
    "# True (the values compared are equal)\n",
    "\n",
    "(1048576.0 + small_values[1]) == 1048576.0\n",
    "# True (the values compared are equal)\n",
    "\n",
    "(0.0009765625 + small_values[2]) == 0.0009765625\n",
    "# True (the values compared are equal)\n",
    "```\n",
    "\n",
    "2. Is there any relation among these values?\n",
    "3. Provide an explanation of the results obtained."
   ]
  },
  {
   "cell_type": "code",
   "execution_count": 5,
   "id": "88677d9b-2724-40b7-b79c-5605f82ac59b",
   "metadata": {},
   "outputs": [],
   "source": [
    "def find_small_value(n: float, initial_exp: int) -> float:\n",
    "    exp = initial_exp\n",
    "    small_value = 10**exp\n",
    "    \n",
    "    while (small_value + n) != n:\n",
    "        exp = exp - 1\n",
    "        small_value = 10.0**exp\n",
    "    \n",
    "    aux = None\n",
    "    \n",
    "    while aux != small_value:\n",
    "        aux = small_value\n",
    "        i = 1\n",
    "        \n",
    "        while i < 10 and (aux + n) == n:\n",
    "            small_value = aux\n",
    "            aux = aux + (10.0**exp)\n",
    "            i = i + 1\n",
    "    \n",
    "        exp = exp - 1\n",
    "\n",
    "    return small_value"
   ]
  },
  {
   "cell_type": "code",
   "execution_count": 6,
   "id": "d4a7eaed",
   "metadata": {},
   "outputs": [
    {
     "name": "stdout",
     "output_type": "stream",
     "text": [
      "True\n",
      "True\n",
      "True\n"
     ]
    }
   ],
   "source": [
    "small_values = [None, None, None]\n",
    "\n",
    "small_values[0] = find_small_value(1.0, 0)\n",
    "small_values[1] = find_small_value(1048576.0, 0)\n",
    "small_values[2] = find_small_value(0.0009765625, -10)\n",
    "\n",
    "print((1.0 + small_values[0]) == 1.0)\n",
    "print((1048576.0 + small_values[1]) == 1048576.0)\n",
    "print((0.0009765625 + small_values[2]) == 0.0009765625)"
   ]
  },
  {
   "cell_type": "markdown",
   "id": "8cc2a2af",
   "metadata": {},
   "source": [
    "####### YOUR EXPLANATION GOES HERE (markdown)"
   ]
  },
  {
   "attachments": {},
   "cell_type": "markdown",
   "id": "6e9f254e-5b84-4e45-a64e-c95debf8f47b",
   "metadata": {},
   "source": [
    "### Exercise 3.\n",
    "Write a function to compute the factorial of a number\n",
    "$$\n",
    "n! = \\prod_{i=1}^n i.\n",
    "$$"
   ]
  },
  {
   "cell_type": "code",
   "execution_count": 7,
   "id": "ee01c1d0-7b5b-4ffc-9c93-2af2f9dec209",
   "metadata": {},
   "outputs": [],
   "source": [
    "def factorial(n: int) -> float:\n",
    "    \"\"\" Compute the factorial of a number\n",
    "    Args:\n",
    "        n: Number whose factorial is computed\n",
    "\n",
    "    Returns:\n",
    "        n! in double precision (to avoid numerical problems).\n",
    "\n",
    "    Examples:\n",
    "        >>> factorial(0)\n",
    "        1\n",
    "        >>> factorial(5)\n",
    "        120\n",
    "        >>> factorial(100)\n",
    "        9.33262154439441e+157\n",
    "    \"\"\"\n",
    "\n",
    "    if n < 0:\n",
    "        raise ValueError('Only positive integers allowed.')\n",
    "    \n",
    "    ret = 1.0\n",
    "    \n",
    "    for i in range(2, n+1):\n",
    "        ret = ret * i\n",
    "\n",
    "    return ret"
   ]
  },
  {
   "cell_type": "code",
   "execution_count": 8,
   "id": "465dee5f",
   "metadata": {},
   "outputs": [
    {
     "name": "stdout",
     "output_type": "stream",
     "text": [
      "1.0\n",
      "120.0\n",
      "9.33262154439441e+157\n"
     ]
    }
   ],
   "source": [
    "print(factorial(0))\n",
    "print(factorial(5))\n",
    "print(factorial(100))"
   ]
  },
  {
   "cell_type": "markdown",
   "id": "f6b175df-2a33-428f-a0b0-22cef493a70f",
   "metadata": {},
   "source": [
    "#### Explicación\n",
    "\n",
    "No hay necesidad de una explicación muy extensa, es una función muy simple que concatena la multiplicación de todos los números desde el 1 hasta n.\n",
    "\n",
    "---"
   ]
  },
  {
   "cell_type": "markdown",
   "id": "49983618",
   "metadata": {},
   "source": [
    "### Exercise 4.\n",
    "\n",
    "A combinatorial number is the number of distinct manners in which one can select $k$ out of $n$ objects \n",
    "$$\n",
    " \\binom{n}{k} = \\frac{n!}{k!(n-k)!}.\n",
    "$$\n",
    "\n",
    "1. Design a function to compute combinatorial numbers based on the factorial function defined in the previous exercise.\n",
    "2. Test the design by computing the combinatorial numbers $\\binom{0}{0}, \\binom{5}{2}, \\binom{400}{0}, \\binom{400}{400}, \\binom{400}{200}$.\n",
    "3. If the initial design fails in some of the example, explain the reason for this failure.\n",
    "4. Modify the design so that the function yields the correct answer.\n"
   ]
  },
  {
   "cell_type": "code",
   "execution_count": 9,
   "id": "ce4fd5c0",
   "metadata": {},
   "outputs": [],
   "source": [
    "def combinatorial_number(n: int, k:int) -> float:\n",
    "    \"\"\" Compute the factorial of a number\n",
    "    Args:\n",
    "        n: Number of objects for selection\n",
    "        k: Number of selected objects\n",
    "\n",
    "    Returns:\n",
    "        The number of ways in which k objects can be selected from a set of n objects\n",
    "        \n",
    "\n",
    "    Examples:\n",
    "        >>> combinatorial_number(0, 0)\n",
    "        1.0\n",
    "        >>> combinatorial_number(5, 0)\n",
    "        1.0\n",
    "        >>> combinatorial_number(5, 5)\n",
    "        1.0\n",
    "        >>> combinatorial_number(5, 2)\n",
    "        10.0\n",
    "        >>> combinatorial_number(400, 0)\n",
    "        1.0\n",
    "        >>> combinatorial_number(400, 400)\n",
    "        1.0\n",
    "        >>> combinatorial_number(400, 200)\n",
    "        1.0295250013541435e+119\n",
    "    \"\"\"\n",
    "    numerator = factorial(n)\n",
    "    denominator = factorial(k) * factorial(n-k)\n",
    "\n",
    "    ret = numerator / denominator\n",
    "    \n",
    "    return ret"
   ]
  },
  {
   "cell_type": "code",
   "execution_count": 10,
   "id": "4395a41b",
   "metadata": {},
   "outputs": [
    {
     "name": "stdout",
     "output_type": "stream",
     "text": [
      "1.0\n",
      "1.0\n",
      "1.0\n",
      "10.0\n",
      "nan\n",
      "nan\n",
      "nan\n"
     ]
    }
   ],
   "source": [
    "print(combinatorial_number(0, 0))\n",
    "print(combinatorial_number(5, 0))\n",
    "print(combinatorial_number(5, 5))\n",
    "print(combinatorial_number(5, 2))\n",
    "print(combinatorial_number(400, 0))\n",
    "print(combinatorial_number(400, 400))\n",
    "print(combinatorial_number(400, 200))"
   ]
  },
  {
   "cell_type": "code",
   "execution_count": 11,
   "id": "2da4dde3",
   "metadata": {},
   "outputs": [
    {
     "name": "stdout",
     "output_type": "stream",
     "text": [
      "170! = 7.257415615307994e+306\n",
      "171! = inf\n"
     ]
    }
   ],
   "source": [
    "i = 0\n",
    "while not np.isinf(factorial(i)):\n",
    "    i += 1\n",
    "\n",
    "print(f\"{i - 1}! = {factorial(i-1)}\")\n",
    "print(f\"{i}! = {factorial(i)}\")"
   ]
  },
  {
   "cell_type": "markdown",
   "id": "aa590405",
   "metadata": {},
   "source": [
    "#### Explicación\n",
    "\n",
    "Los últimos tres ejemplos fallan debido a *overflows* en el numerador y denominador (400! es más grande que *max_real*, incluso 200! se sale del rango). Como enseña la celda previa, 170! es el factorial más grande que nuestra función factorial() puede computar.\n",
    "\n",
    "La siguiente función se ha implementado para evitar *overflows*, y en consecuencia corregir el cálculo final de los resultados:"
   ]
  },
  {
   "cell_type": "code",
   "execution_count": 12,
   "id": "7c5c4fc2-934d-4bbf-8700-b7fd9723a837",
   "metadata": {},
   "outputs": [],
   "source": [
    "def combinatorial_number_2(n: int, k:int) -> float:\n",
    "    \"\"\" Compute the factorial of a number\n",
    "    Args:\n",
    "        n: Number of objects for selection\n",
    "        k: Number of selected objects\n",
    "\n",
    "    Returns:\n",
    "        The number of ways in which k objects can be selected from a set of n objects\n",
    "        \n",
    "\n",
    "    Examples:\n",
    "        >>> combinatorial_number_2(0, 0)\n",
    "        1.0\n",
    "        >>> combinatorial_number_2(5, 0)\n",
    "        1.0\n",
    "        >>> combinatorial_number_2(5, 5)\n",
    "        1.0\n",
    "        >>> combinatorial_number_2(5, 2)\n",
    "        10.0\n",
    "        >>> combinatorial_number_2(400, 0)\n",
    "        1.0\n",
    "        >>> combinatorial_number_2(400, 400)\n",
    "        1.0\n",
    "        >>> combinatorial_number_2(400, 200)\n",
    "        1.0295250013541435e+119\n",
    "    \"\"\"\n",
    "    ret = 1.0\n",
    "    numerator_factors = []\n",
    "    denominator_factors = []\n",
    "\n",
    "    # To avoid a big chunck of the computation, we will cancell the biggest\n",
    "    # factor on the denominator (either k! or (n-k)!) with its corresponding part\n",
    "    # on the numerator since k < n and n-k < n then if k >= n-k, n!/k! = \n",
    "    # n * (n-1) * ... * (k+1) will result on the smallest number being computed\n",
    "    # however if n-k > k then n!/(n-k)! = n * (n-1) * ... * (n-k+1) will result in\n",
    "    # a smaller intermediate value\n",
    "    if k >= n - k:\n",
    "        numerator_factors = [i for i in range(k + 1, n + 1)] \n",
    "        denominator_factors = [i for i in range(1, n - k + 1)]\n",
    "\n",
    "    else:\n",
    "        numerator_factors = [i for i in range(n - k + 1, n + 1)] \n",
    "        denominator_factors = [i for i in range(1, k + 1)]\n",
    "\n",
    "    # After that, to avoid overflows while separately calculating the numerator and\n",
    "    # denominator we will divide one by one the biggest factors of the numerator with the biggest \n",
    "    # factors of the denominator and multiply all the results together to form the final result.\n",
    "    # At this point the number of factors in the numerator and denominator is the same\n",
    "    for i in range(0, len(denominator_factors)):\n",
    "        numerator_index = len(numerator_factors) - i - 1\n",
    "        denominator_index = len(denominator_factors) - i - 1\n",
    "\n",
    "        ret *= numerator_factors[numerator_index] / denominator_factors[denominator_index]\n",
    "    \n",
    "    return ret"
   ]
  },
  {
   "cell_type": "code",
   "execution_count": 13,
   "id": "6ae7e468-6339-423e-a888-ea48a43e37e7",
   "metadata": {},
   "outputs": [
    {
     "name": "stdout",
     "output_type": "stream",
     "text": [
      "1.0\n",
      "1.0\n",
      "1.0\n",
      "10.0\n",
      "1.0\n",
      "1.0\n",
      "1.029525001354145e+119\n"
     ]
    }
   ],
   "source": [
    "print(combinatorial_number_2(0, 0))\n",
    "print(combinatorial_number_2(5, 0))\n",
    "print(combinatorial_number_2(5, 5))\n",
    "print(combinatorial_number_2(5, 2))\n",
    "print(combinatorial_number_2(400, 0))\n",
    "print(combinatorial_number_2(400, 400))\n",
    "print(combinatorial_number_2(400, 200))"
   ]
  },
  {
   "cell_type": "markdown",
   "id": "10f41545-ecd2-48f1-ac21-4ea8f6e110a5",
   "metadata": {},
   "source": [
    "#### Explicación\n",
    "\n",
    "Para evitar *overflows*, aplicamos dos tretas:\n",
    "\n",
    "Primero cancelamos el factor más grande en el denominador con parte de los factores del numerador:\n",
    "\n",
    "* Si k es mayor o igual que n-k:\n",
    "$$\n",
    " \\frac{n!}{k!(n-k)!} = \\frac{n!}{k!}\\frac{1}{(n-k)!} = \\frac{\\prod_{i=k+1}^n i}{(n-k)!}\n",
    "$$\n",
    "\n",
    "* Si n-k es mayor que k:\n",
    "$$\n",
    " \\frac{n!}{k!(n-k)!} = \\frac{n!}{(n-k)!}\\frac{1}{k!} = \\frac{\\prod_{i=n-k+1}^n i}{k!}\n",
    "$$\n",
    "\n",
    "Para finalizar resolvemos el principal problema proveniente de calcular por separado el numerador y el denominador, cuyos valores sueltos son mucho más grandes que el resultado final, provocando *overflows* antes de computar el resultado final.\n",
    "\n",
    "Con el objetivo de minimizar los valores intermedios, computamos la solución de la siguiente manera:\n",
    "\n",
    "* Si k es mayor o igual que n-k:\n",
    "$$\n",
    " \\frac{\\prod_{i=k+1}^n i}{(n-k)!} = \\prod_{i=1}^{n-k} \\frac{k + i}{i}\n",
    "$$\n",
    "\n",
    "* Si n-k es mayor que k:\n",
    "$$\n",
    " \\frac{\\prod_{i=n-k+1}^n i}{k!} = \\prod_{i=1}^k \\frac{i + n - k}{i}\n",
    "$$\n",
    "\n",
    "---"
   ]
  },
  {
   "cell_type": "markdown",
   "id": "03def493",
   "metadata": {},
   "source": [
    "### Exercise 5.\n",
    "\n",
    "Consider the following series \n",
    "$$  S = \\sum_{n=1}^{\\infty} \\frac{1}{n^4} = \\frac{\\pi^4}{90}$$\n",
    "\n",
    "We will attempt to estimate its value in an approximate manner with the help of a computer.\n",
    "\n",
    "To this end, we compute the value of the truncatd series \n",
    "$$\n",
    "S\\approx S_N  = \\sum_{n=1}^N \\frac{1}{n^4},\n",
    "$$\n",
    "which provides an accurate approximation of $S$ for sufficiently large $N$\n",
    "$$\n",
    "\\lim_{N \\rightarrow \\infty} S_N  = S.\n",
    "$$\n",
    "\n",
    "The approximation errors are defined as\n",
    "$$\n",
    "error_{abs}(N) = \\left| S_N - S \\right|; \\\\ \n",
    "error_{rel}(N) = \\frac{\\left| S_N - S \\right|}{\\left| S \\right|} = \\left| \\frac{S_N}{S} - 1 \\right|.\n",
    "$$\n",
    "\n",
    "The question is what is the minimum error that can be achieved and how large does $N$ have to be to achieve is minimum. \n",
    "\n",
    "To investigate this issue, we will consider two possible implementations of the computation \n",
    "\n",
    "<u> IMPLEMENTATION 1</u>: Forward sum\n",
    "\n",
    "$$\n",
    "S_N^{\\rightarrow} = \\left(\\left(\\left(1 + \\frac{1}{2^4} \\right)\n",
    "+ \\frac{1}{3^4} \\right) + \\ldots + \\frac{1}{(N-1)^4} \\right) + \\frac{1}{N^4}.\n",
    "$$\t\n",
    "\n",
    "<u> IMPLEMENTATION 2</u>: backward sum\n",
    "$$\n",
    "S_N^{\\leftarrow} = \\left(\\left(\\left(\n",
    "\\frac{1}{N^4} +  \\frac{1}{(N-1)^4} \\right) + \\frac{1}{(N-2)^4} \\right)+⋯+ \\frac{1}{2^4} \\right) + 1.\n",
    "$$\t\n",
    "\n",
    "1. Implement functions to compute these quantities.\n",
    "2. Analyze the behavior of these quantities as a function of $N$.\n",
    "    1. Does the error decrease as $N$ becomes larger? \n",
    "    2. What is the smallest value of the error, and for which value of $N$ is it attained?\n",
    "    3. Are the smallest errors for $S_N^{\\rightarrow} =$ and $S_N^{\\leftarrow}$ equal? If not, which of the procedures is more accurate?\n",
    "    4. Make a table (for instance, using [pandas](https://pandas.pydata.org/docs/user_guide/10min.html)) and a plot (using [matplotlib](https://matplotlib.org/stable/tutorials/index.html)) of the relative value of the approximation error of $S_N^{\\rightarrow} =$ and $S_N^{\\leftarrow}$ as a function of $N$.\n",
    "3. Provide an explanation of the results obtained.\n",
    "\n",
    "<u> HINT</u>: The explanation of the results hinges on the observations made in exercise 2."
   ]
  },
  {
   "cell_type": "code",
   "execution_count": 14,
   "id": "854d4780",
   "metadata": {},
   "outputs": [
    {
     "name": "stdout",
     "output_type": "stream",
     "text": [
      "1.082323233711138\n"
     ]
    }
   ],
   "source": [
    "# Exact sum \n",
    "S_exact = np.pi**4 / 90.0\n",
    "print(S_exact)"
   ]
  },
  {
   "cell_type": "code",
   "execution_count": 15,
   "id": "c6b5de41",
   "metadata": {},
   "outputs": [
    {
     "name": "stdout",
     "output_type": "stream",
     "text": [
      "[1.         0.0625     0.01234568 0.00390625 0.0016    ]\n"
     ]
    }
   ],
   "source": [
    "# Series term\n",
    "def inverse_power(n, p):\n",
    "    return 1.0 / np.double(n)**p \n",
    "\n",
    "# Example (vectorized)\n",
    "N = 5\n",
    "n = np.arange(1, N+1)\n",
    "print(inverse_power(n, p=4))"
   ]
  },
  {
   "cell_type": "code",
   "execution_count": 16,
   "id": "c1581253",
   "metadata": {},
   "outputs": [
    {
     "ename": "IndentationError",
     "evalue": "expected an indented block after function definition on line 3 (872358748.py, line 9)",
     "output_type": "error",
     "traceback": [
      "\u001b[0;36m  Cell \u001b[0;32mIn[16], line 9\u001b[0;36m\u001b[0m\n\u001b[0;31m    print(S_exact)\u001b[0m\n\u001b[0m    ^\u001b[0m\n\u001b[0;31mIndentationError\u001b[0m\u001b[0;31m:\u001b[0m expected an indented block after function definition on line 3\n"
     ]
    }
   ],
   "source": [
    "# Forward sum\n",
    "\n",
    "def forward_sum(series_term, N):\n",
    "    # YOUR CODE GOES HERE\n",
    "    \n",
    "\n",
    "# Example of use\n",
    "\n",
    "print(S_exact)\n",
    "\n",
    "N = 1000\n",
    "series_term = lambda n: inverse_power(n, p=4) \n",
    "\n",
    "S_N_forward = forward_sum(series_term, N)\n",
    "print(S_N_forward)"
   ]
  },
  {
   "cell_type": "code",
   "execution_count": null,
   "id": "9f43f965",
   "metadata": {},
   "outputs": [],
   "source": [
    "# Backward sum\n",
    "\n",
    "def backward_sum(series_term, N):\n",
    "    # YOUR CODE GOES HERE\n",
    "\n",
    "# Example of use\n",
    "\n",
    "print(S_exact)\n",
    "\n",
    "N = 1000\n",
    "series_term = lambda n: inverse_power(n, p=4) \n",
    "\n",
    "S_N_backward = backward_sum(series_term, N)\n",
    "print(S_N_backward)"
   ]
  },
  {
   "cell_type": "code",
   "execution_count": null,
   "id": "46cc7e67",
   "metadata": {},
   "outputs": [],
   "source": [
    "# YOUR CODE GOES HERE"
   ]
  },
  {
   "cell_type": "markdown",
   "id": "0f98b646",
   "metadata": {},
   "source": [
    "####### YOUR EXPLANATION GOES HERE (markdown)"
   ]
  },
  {
   "cell_type": "markdown",
   "id": "786dc9ec",
   "metadata": {},
   "source": [
    "### Exercise 6.\n",
    "\n",
    "Consider the following code:"
   ]
  },
  {
   "cell_type": "code",
   "execution_count": null,
   "id": "03b351be",
   "metadata": {},
   "outputs": [],
   "source": [
    "from scipy.integrate import quad\n",
    "from scipy.stats import norm\n",
    "\n",
    "\n",
    "mu = 1.35\n",
    "sigma = 0.25\n",
    "f  = lambda x: norm.pdf(x,mu,sigma); \n",
    "\n",
    "def mystery_function(alpha):\n",
    "    x_inf = mu-alpha*sigma;\n",
    "    x_sup = mu+alpha*sigma;\n",
    "    return quad(f, x_inf, x_sup, epsabs=1.0e-10, epsrel=1.0e-10)\n",
    "\n",
    "alpha = 2.0\n",
    "print(mystery_function(alpha))"
   ]
  },
  {
   "cell_type": "markdown",
   "id": "4a74c961",
   "metadata": {},
   "source": [
    "1. Explain what is being computed with this piece of code.\n",
    "2. Does the value that is beign computed change with the values of $\\mu$ and $\\sigma$? \n",
    "3. Provide a mathematical derivation (use [latex within a markdown cell](https://towardsdatascience.com/write-markdown-latex-in-the-jupyter-notebook-10985edb91fd)) to explain what is observed.\n",
    "4. Use the above derivation to compute the value of the integral for $\\alpha = \\infty$.\n",
    "5. What is the smallest value of $\\alpha$ that is needed to achieve a result numerically equivalent to the one obtained with $\\alpha = \\infty$ ?\n",
    "\n",
    "<u>HINTS</u>: \n",
    "* Look for information on `quad`,`norm`. \n",
    "* You may need to modify the values of `epsabs` and / or `epsrel` to answer the last question."
   ]
  },
  {
   "cell_type": "code",
   "execution_count": null,
   "id": "3b75ddf1",
   "metadata": {},
   "outputs": [],
   "source": [
    "# YOUR CODE GOES HERE"
   ]
  },
  {
   "cell_type": "markdown",
   "id": "a5cd2095",
   "metadata": {},
   "source": [
    "####### YOUR EXPLANATION GOES HERE (markdown)"
   ]
  },
  {
   "cell_type": "markdown",
   "id": "0422a8c3",
   "metadata": {},
   "source": [
    "### Exercise 7.\n",
    "Execute the following code several times."
   ]
  },
  {
   "cell_type": "code",
   "execution_count": null,
   "id": "5ce4d4f6",
   "metadata": {
    "scrolled": true
   },
   "outputs": [],
   "source": [
    "N = 4;\n",
    "i = range(1, N+1)\n",
    "i, j = np.meshgrid(i, i);\n",
    "A = np.abs(i-j)\n",
    "print(A)\n",
    "v0 = np.random.randn(N)\n",
    "MAX_ITER  = 50;\n",
    "for i in range(MAX_ITER):\n",
    "    v1 = A @ v0;\n",
    "    squared_norm = np.dot(v1, v1)\n",
    "    lamb =  squared_norm / np.dot(v0, v1)\n",
    "    print(lamb)\n",
    "    v0 = v1 / np.sqrt(squared_norm)"
   ]
  },
  {
   "cell_type": "markdown",
   "id": "3b8c50b8",
   "metadata": {},
   "source": [
    "Provide an explanation of what the code does and of the results observed.\n",
    "\n",
    "<u> HINT </u>:\n",
    "Investigate the functionality of the numpy function `numpy.linalg.eig`."
   ]
  },
  {
   "cell_type": "code",
   "execution_count": null,
   "id": "24d470c7",
   "metadata": {},
   "outputs": [],
   "source": [
    "# YOUR CODE GOES HERE"
   ]
  },
  {
   "cell_type": "markdown",
   "id": "02479170",
   "metadata": {},
   "source": [
    "####### YOUR EXPLANATION GOES HERE (markdown)"
   ]
  },
  {
   "cell_type": "markdown",
   "id": "13e3a458",
   "metadata": {},
   "source": [
    "### Exercise 8.\n",
    "\n",
    "1. Explain how can the eigenvectors and eigenvalues of a square matrix be used to compute its exponential.\n",
    "2. Making use of the function `numpy.linalg.eig` compute the results of exponentiating Toeplitz' matrix\n",
    "$$\n",
    "A = \\left(\n",
    "\\begin{array}{cccc}\n",
    "0 & 1 & 2 & 3 \\\\\n",
    "1 & 0 & 1 & 2 \\\\\n",
    "2 & 1 & 0 & 1 \\\\\n",
    "3 & 2 & 1 & 0 \n",
    "\\end{array} \n",
    "\\right).\n",
    "$$\n",
    "3. Compare the results with those obtained with the scipy function `scipy.linalg.expm`"
   ]
  },
  {
   "cell_type": "code",
   "execution_count": 19,
   "id": "ff188438",
   "metadata": {},
   "outputs": [
    {
     "name": "stdout",
     "output_type": "stream",
     "text": [
      "[[57.54897396 41.23414727 41.41932638 57.43936799]\n",
      " [41.23414727 30.18299519 29.70303099 41.41932638]\n",
      " [41.41932638 29.70303099 30.18299519 41.23414727]\n",
      " [57.43936799 41.41932638 41.23414727 57.54897396]]\n"
     ]
    }
   ],
   "source": [
    "a = [[0, 1, 2, 3],\n",
    "     [1, 0, 1, 2],\n",
    "     [2, 1, 0, 1],\n",
    "     [3, 2, 1, 0]]\n",
    "\n",
    "# Compute the matrix eigenvalues and eigenvectors\n",
    "eig_result = np.linalg.eig(a)\n",
    "\n",
    "# Since 'a' is a matrix of 4x4 and it has 4 distinct eigenvalues\n",
    "# 'a' it is diagonizable and its exponential can be computed fairly easy\n",
    "s = eig_result.eigenvectors\n",
    "s_inverse = np.linalg.inv(s)\n",
    "\n",
    "d_exp = [[math.exp(eig_result.eigenvalues[0]), 0, 0, 0],\n",
    "        [0, math.exp(eig_result.eigenvalues[1]), 0, 0],\n",
    "        [0, 0, math.exp(eig_result.eigenvalues[2]), 0],\n",
    "        [0, 0, 0, math.exp(eig_result.eigenvalues[3])]]\n",
    "\n",
    "aux = np.dot(s, d_exp)\n",
    "a_exp = np.dot(aux, s_inverse)\n",
    "print(a_exp)"
   ]
  },
  {
   "cell_type": "code",
   "execution_count": 22,
   "id": "87318c3d",
   "metadata": {},
   "outputs": [
    {
     "data": {
      "text/plain": [
       "array([[57.54897396, 41.23414727, 41.41932638, 57.43936799],\n",
       "       [41.23414727, 30.18299519, 29.70303099, 41.41932638],\n",
       "       [41.41932638, 29.70303099, 30.18299519, 41.23414727],\n",
       "       [57.43936799, 41.41932638, 41.23414727, 57.54897396]])"
      ]
     },
     "execution_count": 22,
     "metadata": {},
     "output_type": "execute_result"
    }
   ],
   "source": [
    "a = [[0, 1, 2, 3],\n",
    "     [1, 0, 1, 2],\n",
    "     [2, 1, 0, 1],\n",
    "     [3, 2, 1, 0]]\n",
    "\n",
    "sp.linalg.expm(a)"
   ]
  },
  {
   "cell_type": "markdown",
   "id": "8e132b5c",
   "metadata": {},
   "source": [
    "#### Explicación\n",
    "\n",
    "##### 1. Cálculo de la exponencial de la matriz A.\n",
    "\n",
    "El cálculo de la exponencial de una matriz cuadrada es relativamente sencillo mediante el uso de autovalores y autovectores en el caso de que dicha matriz sea diagonalizable.\n",
    "\n",
    "Por suerte para nosotros la matriz de Toeplitz es diagonalizable. Esto se confirma puesto que es una matriz de 4x4 y tiene 4 autovectores distintos.\n",
    "\n",
    "1. Calculamos la matriz S cuyas columnas son los autovecores (v1, v2, v3 y v4) de A: \n",
    "\n",
    "$$\n",
    "S = \\left(\n",
    "\\begin{array}{cccc}\n",
    "v1 & v2 & v3 & v4 \n",
    "\\end{array} \n",
    "\\right).\n",
    "$$\n",
    "\n",
    "2. Mediante S, su inversa y los autovalores (lambda1, lambda2, lambda3 y lambda4), se puede calcular el exponencial de A de la siguiente manera:\n",
    "\n",
    "$$\n",
    "e^A = S \\left(\n",
    "\\begin{array}{cccc}\n",
    "e^{\\lambda_{1}} & 0 & 0 & 0 \\\\\n",
    "0 & e^{\\lambda_{2}} & 0 & 0 \\\\\n",
    "0 & 0 & e^{\\lambda_{3}} & 0 \\\\\n",
    "0 & 0 & 0 & e^{\\lambda_{4}} \n",
    "\\end{array} \n",
    "\\right) S^{-1}\n",
    "$$\n",
    "\n",
    "\n",
    "##### 2. Comparación de resultados.\n",
    "\n",
    "Siguiendo el algoritmo descrito en el apartado anterior y sp.linalg.expm() se obtiene el mismo resultado.\n",
    "\n",
    "---"
   ]
  }
 ],
 "metadata": {
  "kernelspec": {
   "display_name": "Python 3 (ipykernel)",
   "language": "python",
   "name": "python3"
  },
  "language_info": {
   "codemirror_mode": {
    "name": "ipython",
    "version": 3
   },
   "file_extension": ".py",
   "mimetype": "text/x-python",
   "name": "python",
   "nbconvert_exporter": "python",
   "pygments_lexer": "ipython3",
   "version": "3.12.3"
  }
 },
 "nbformat": 4,
 "nbformat_minor": 5
}
